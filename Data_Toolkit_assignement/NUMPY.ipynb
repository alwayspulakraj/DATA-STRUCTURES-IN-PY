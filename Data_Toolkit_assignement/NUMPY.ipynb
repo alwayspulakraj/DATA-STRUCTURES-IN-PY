{
  "nbformat": 4,
  "nbformat_minor": 0,
  "metadata": {
    "colab": {
      "provenance": [],
      "authorship_tag": "ABX9TyNXhh8wSm9uZTKxlUqs8iKC",
      "include_colab_link": true
    },
    "kernelspec": {
      "name": "python3",
      "display_name": "Python 3"
    },
    "language_info": {
      "name": "python"
    }
  },
  "cells": [
    {
      "cell_type": "markdown",
      "metadata": {
        "id": "view-in-github",
        "colab_type": "text"
      },
      "source": [
        "<a href=\"https://colab.research.google.com/github/alwayspulakraj/GENERATIVE_AI_COURSE_ASSIGNMENT/blob/ASSIGNMENTS-PW-SKILLS/Data_Toolkit_assignement/NUMPY.ipynb\" target=\"_parent\"><img src=\"https://colab.research.google.com/assets/colab-badge.svg\" alt=\"Open In Colab\"/></a>"
      ]
    },
    {
      "cell_type": "code",
      "execution_count": null,
      "metadata": {
        "colab": {
          "base_uri": "https://localhost:8080/"
        },
        "id": "qURyiyiddA9G",
        "outputId": "51625f1a-1235-4c9b-c341-e5d33ddb83a1"
      },
      "outputs": [
        {
          "output_type": "stream",
          "name": "stdout",
          "text": [
            "[0 1 2 3 4 5]\n",
            "<class 'numpy.ndarray'>\n"
          ]
        }
      ],
      "source": [
        "#1.Create a NumPy array 'arr' of integers from 0 to 5 and print its data type.\n",
        "import numpy as np\n",
        "arr=np.arange(6)\n",
        "print(arr)\n",
        "print(type(arr))"
      ]
    },
    {
      "cell_type": "code",
      "source": [
        "#2. Given a NumPy array 'arr', check if its data type is float64, arr = np.array([1.5, 2.6, 3.7])\n",
        "arr = np.array([1.5, 2.6, 3.7])\n",
        "arr.dtype#we can also print the the type to show only the data type"
      ],
      "metadata": {
        "colab": {
          "base_uri": "https://localhost:8080/"
        },
        "id": "LPZLlypddvT0",
        "outputId": "b9ed78ba-195e-4f7d-b764-2cfc206da161"
      },
      "execution_count": null,
      "outputs": [
        {
          "output_type": "execute_result",
          "data": {
            "text/plain": [
              "dtype('float64')"
            ]
          },
          "metadata": {},
          "execution_count": 4
        }
      ]
    },
    {
      "cell_type": "code",
      "source": [
        "#3. Create a NumPy array 'arr' with a data type of complex128 containing three complex numbers.\n",
        "arr=np.array([1+2j,3+4j,5+6j])#complex number\n",
        "print([arr,arr.dtype])\n"
      ],
      "metadata": {
        "colab": {
          "base_uri": "https://localhost:8080/"
        },
        "id": "GezZiBxleQms",
        "outputId": "4d53bf28-ed4b-4baf-e734-2aac9c0eb0fd"
      },
      "execution_count": null,
      "outputs": [
        {
          "output_type": "stream",
          "name": "stdout",
          "text": [
            "[array([1.+2.j, 3.+4.j, 5.+6.j]), dtype('complex128')]\n"
          ]
        }
      ]
    },
    {
      "cell_type": "code",
      "source": [
        "#4. Convert an existing NumPy array 'arr' of integers to float32 data type.\n",
        "arr1=np.arange(6)\n",
        "print(\"before converting-\",arr1.dtype)\n",
        "arr1=arr1.astype(float)\n",
        "print(\"after converting-\",arr1.dtype)"
      ],
      "metadata": {
        "colab": {
          "base_uri": "https://localhost:8080/"
        },
        "id": "8wpACrcEfDhM",
        "outputId": "79a1c9a9-b98d-442b-e1aa-5739d696bf23"
      },
      "execution_count": null,
      "outputs": [
        {
          "output_type": "stream",
          "name": "stdout",
          "text": [
            "before converting- int64\n",
            "after converting- float64\n"
          ]
        }
      ]
    },
    {
      "cell_type": "code",
      "source": [
        "#5. Given a NumPy array 'arr' with float64 data type, convert it to float32 to reduce decimal precision.\n",
        "print([arr1,arr1.dtype])\n",
        "arr1=arr1.astype(np.float32)\n",
        "print([arr1,arr1.dtype])#converted to float32 to reduce decimal precision"
      ],
      "metadata": {
        "colab": {
          "base_uri": "https://localhost:8080/"
        },
        "id": "3K6fGki-g9_x",
        "outputId": "d4674541-da92-4c5f-dafc-9feb96a8e6a3"
      },
      "execution_count": null,
      "outputs": [
        {
          "output_type": "stream",
          "name": "stdout",
          "text": [
            "[array([0., 1., 2., 3., 4., 5.]), dtype('float64')]\n",
            "[array([0., 1., 2., 3., 4., 5.], dtype=float32), dtype('float32')]\n"
          ]
        }
      ]
    },
    {
      "cell_type": "code",
      "source": [
        "#6. Write a function array_attributes that takes a NumPy array as input and returns its shape, size, and data type.\n",
        "def array_attributes(arr):\n",
        "    print(\"shape:\",arr.shape)\n",
        "    print(\"size:\",arr.size)\n",
        "    print(\"data type:\",arr.dtype)"
      ],
      "metadata": {
        "id": "7t8ZbljGhpIi"
      },
      "execution_count": null,
      "outputs": []
    },
    {
      "cell_type": "code",
      "source": [
        "#7.Create a function array_dimension that takes a NumPy array as input and returns its dimensionality.\n",
        "def array_dimmension(arr):\n",
        "  print(\"The dimensionality of the inputted array is-\",arr.ndim)\n",
        "arr=np.array([[1,2,3,4]])#This is a example to show the output\n",
        "array_dimmension(arr)"
      ],
      "metadata": {
        "colab": {
          "base_uri": "https://localhost:8080/"
        },
        "id": "-Z979DyXh89C",
        "outputId": "fac66cb7-4406-40f9-8e59-56f0c781bfe3"
      },
      "execution_count": null,
      "outputs": [
        {
          "output_type": "stream",
          "name": "stdout",
          "text": [
            "The dimensionality of the inputted array is- 2\n"
          ]
        }
      ]
    },
    {
      "cell_type": "code",
      "source": [
        "#8.Design a function item_size_info that takes a NumPy array as input and returns the item size and the total size in bytes.\n",
        "def item_size_info(arr):\n",
        "  print(\"item size:\",arr.itemsize)\n",
        "  print(\"total size in bytes:\",arr.nbytes)\n",
        "ar=np.array(range(5))\n",
        "print(ar)\n",
        "item_size_info(ar)"
      ],
      "metadata": {
        "colab": {
          "base_uri": "https://localhost:8080/"
        },
        "id": "fKilVyytimKH",
        "outputId": "3e80d4d8-2cda-4ec0-8288-2b05d488ab6e"
      },
      "execution_count": null,
      "outputs": [
        {
          "output_type": "stream",
          "name": "stdout",
          "text": [
            "[0 1 2 3 4]\n",
            "item size: 8\n",
            "total size in bytes: 40\n"
          ]
        }
      ]
    },
    {
      "cell_type": "code",
      "source": [
        "#9. Create a function array_strides that takes a NumPy array as input and returns the strides of the array.\n",
        "def array_strides(arr):\n",
        "  print(\"strides:\",arr.strides)\n",
        "array_strides(ar)"
      ],
      "metadata": {
        "colab": {
          "base_uri": "https://localhost:8080/"
        },
        "id": "OosHSWaFWLii",
        "outputId": "be786a66-0cf2-4f7d-f519-cf623b1e014a"
      },
      "execution_count": null,
      "outputs": [
        {
          "output_type": "stream",
          "name": "stdout",
          "text": [
            "strides: (8,)\n"
          ]
        }
      ]
    },
    {
      "cell_type": "code",
      "source": [
        "#10.Design a function shape_stride_relationship that takes a NumPy array as input and returns the shape and strides of the array.\n",
        "def shape_stride_relationship(arr):\n",
        "  print(\"shape of the array is -\",arr.shape)\n",
        "  print(\"strides of the array is -\",arr.strides)\n",
        "shape_stride_relationship(ar)"
      ],
      "metadata": {
        "colab": {
          "base_uri": "https://localhost:8080/"
        },
        "id": "M-Q9RgRJW5J6",
        "outputId": "1ff3203e-2efa-4bfe-e51e-be963a49cbbe"
      },
      "execution_count": null,
      "outputs": [
        {
          "output_type": "stream",
          "name": "stdout",
          "text": [
            "shape of the array is - (5,)\n",
            "strides of the array is - (8,)\n"
          ]
        }
      ]
    },
    {
      "cell_type": "code",
      "source": [
        "#11.Create a function `create_zeros_array` that takes an integer `n` as input and returns a NumPy array of zeros with `n` elements.\n",
        "def create_zeros_array(n):\n",
        "  arr=np.zeros(n)\n",
        "  print(arr)\n",
        "n=int(input(\"Enter number of elements in the array of zeros-\"))\n",
        "create_zeros_array(n)"
      ],
      "metadata": {
        "colab": {
          "base_uri": "https://localhost:8080/"
        },
        "id": "yJu6hvgmXfXa",
        "outputId": "952c875d-2b68-4d6c-af0d-56140bc53eb5"
      },
      "execution_count": null,
      "outputs": [
        {
          "output_type": "stream",
          "name": "stdout",
          "text": [
            "Enter number of elements in the array of zeros-4\n",
            "[0. 0. 0. 0.]\n"
          ]
        }
      ]
    },
    {
      "cell_type": "code",
      "source": [
        "#12. Write a function `create_ones_matrix` that takes integers `rows` and `cols` as inputs and generates a 2D NumPy array filled with ones of size `rows x cols`.\n",
        "def create_zeros_array(rows,cols):\n",
        "  arr=np.ones((rows,cols))\n",
        "  print(arr)\n",
        "rows=int(input(\"Enter number of rows-\"))\n",
        "cols=int(input(\"Enter number of columns-\"))\n",
        "create_zeros_array(rows,cols)"
      ],
      "metadata": {
        "colab": {
          "base_uri": "https://localhost:8080/"
        },
        "id": "fP_2z9DFYQOC",
        "outputId": "b5a932c6-821a-425c-871a-e54045c2211c"
      },
      "execution_count": null,
      "outputs": [
        {
          "output_type": "stream",
          "name": "stdout",
          "text": [
            "Enter number of rows-3\n",
            "Enter number of columns-4\n",
            "[[1. 1. 1. 1.]\n",
            " [1. 1. 1. 1.]\n",
            " [1. 1. 1. 1.]]\n"
          ]
        }
      ]
    },
    {
      "cell_type": "code",
      "source": [
        "#13. Write a function `generate_range_array` that takes three integers start, stop, and step as arguments and creates a NumPy array with a range starting from `start`, ending at stop (exclusive), and with the specified  `step`.\n",
        "def generate_range_array(start,stop,step):\n",
        "  arr=np.arange(start,stop,step)\n",
        "  print(arr)\n",
        "start=int(input(\"Enter start-\"))\n",
        "stop=int(input(\"Enter stop-\"))\n",
        "step=int(input(\"Enter step-\"))\n",
        "generate_range_array(start,stop,step)"
      ],
      "metadata": {
        "colab": {
          "base_uri": "https://localhost:8080/"
        },
        "id": "PwCgjXezYu0m",
        "outputId": "014d6bac-ca01-428f-8d46-8698333323ca"
      },
      "execution_count": null,
      "outputs": [
        {
          "output_type": "stream",
          "name": "stdout",
          "text": [
            "Enter start-1\n",
            "Enter stop-7\n",
            "Enter step-2\n",
            "[1 3 5]\n"
          ]
        }
      ]
    },
    {
      "cell_type": "code",
      "source": [
        "#14. Design a function `generate_linear_space` that takes two floats `start`, `stop`, and an integer `num` as arguments and generates a NumPy array with num equally spaced values between `start` and `stop` (inclusive).\n",
        "def generate_linear_space(start,stop,num):\n",
        "  arr=np.linspace(start,stop,num)\n",
        "  print(arr)\n",
        "start=float(input(\"Enter start-\"))\n",
        "stop=float(input(\"Enter stop-\"))\n",
        "num=int(input(\"Enter num-\"))\n",
        "generate_linear_space(start,stop,num)"
      ],
      "metadata": {
        "colab": {
          "base_uri": "https://localhost:8080/"
        },
        "id": "bfi6iUZYaHkJ",
        "outputId": "d29f2331-5413-4c2d-f6ab-956a7e313a59"
      },
      "execution_count": null,
      "outputs": [
        {
          "output_type": "stream",
          "name": "stdout",
          "text": [
            "Enter start-0\n",
            "Enter stop-1\n",
            "Enter num-10\n",
            "[0.         0.11111111 0.22222222 0.33333333 0.44444444 0.55555556\n",
            " 0.66666667 0.77777778 0.88888889 1.        ]\n"
          ]
        }
      ]
    },
    {
      "cell_type": "code",
      "source": [
        "#15. Create a function `create_identity_matrix` that takes an integer `n` as input and generates a square identity matrix of size `n x n` using `numpy.eye`.\n",
        "def create_identity_matrix(n):\n",
        "  arr=np.eye(n)\n",
        "  print(arr)\n",
        "n=int(input(\"Enter number-\"))\n",
        "create_identity_matrix(n)"
      ],
      "metadata": {
        "colab": {
          "base_uri": "https://localhost:8080/"
        },
        "id": "YBs7k1Fpb8CA",
        "outputId": "6d651c2f-4534-42dd-adf0-4afddee1e082"
      },
      "execution_count": null,
      "outputs": [
        {
          "output_type": "stream",
          "name": "stdout",
          "text": [
            "Enter number-3\n",
            "[[1. 0. 0.]\n",
            " [0. 1. 0.]\n",
            " [0. 0. 1.]]\n"
          ]
        }
      ]
    },
    {
      "cell_type": "code",
      "source": [
        "#16.Write a function that takes a Python list and converts it into a NumPy array.\n",
        "def list_to_array(list):\n",
        "  a=np.array(list)\n",
        "  return a\n",
        "l=[1,2,3,4,5]\n",
        "list_to_array(l)"
      ],
      "metadata": {
        "id": "znxqjwWwckgJ",
        "colab": {
          "base_uri": "https://localhost:8080/"
        },
        "outputId": "956d8ed9-9de4-4d04-8720-4c49bff51c71"
      },
      "execution_count": null,
      "outputs": [
        {
          "output_type": "execute_result",
          "data": {
            "text/plain": [
              "array([1, 2, 3, 4, 5])"
            ]
          },
          "metadata": {},
          "execution_count": 8
        }
      ]
    },
    {
      "cell_type": "code",
      "source": [
        "#17.Create a NumPy array and demonstrate the use of `numpy.view` to create a new array object with the same data.\n",
        "arr=np.array([1,2,3,4,5])\n",
        "arr1=arr.view\n",
        "print(arr1)#<built-in method view of numpy.ndarray object at 0x78428a9f0f90>\n",
        "#new object created by using the view method of numpy"
      ],
      "metadata": {
        "colab": {
          "base_uri": "https://localhost:8080/"
        },
        "id": "4TqwNwlzg5AJ",
        "outputId": "b0d13e4b-c944-4544-adb0-e6cd50368be7"
      },
      "execution_count": null,
      "outputs": [
        {
          "output_type": "stream",
          "name": "stdout",
          "text": [
            "<built-in method view of numpy.ndarray object at 0x797957fe8db0>\n"
          ]
        }
      ]
    },
    {
      "cell_type": "code",
      "source": [
        "#18.Write a function that takes two NumPy arrays and concatenates them along a specified axis.\n",
        "def func(arr1,arr2):\n",
        "  arr=np.concatenate((arr1,arr2),axis=1)#by default axis=0\n",
        "  return arr\n",
        "arr1=np.array([[1,2,3]])\n",
        "arr2=np.array([[4,5,6]])\n",
        "func(arr1,arr2)"
      ],
      "metadata": {
        "colab": {
          "base_uri": "https://localhost:8080/"
        },
        "id": "t_GltWVOJDKr",
        "outputId": "9a49b352-976a-415e-8a43-be6ccea785b4"
      },
      "execution_count": null,
      "outputs": [
        {
          "output_type": "execute_result",
          "data": {
            "text/plain": [
              "array([[1, 2, 3, 4, 5, 6]])"
            ]
          },
          "metadata": {},
          "execution_count": 24
        }
      ]
    },
    {
      "cell_type": "code",
      "source": [
        "#19.Create two NumPy arrays with different shapes and concatenate them horizontally using `numpy concatenate`.\n",
        "arr1=np.ones((3,4))\n",
        "arr2=np.zeros((3,3))#in 2D array axis=0 means vertical and axis =1 means horizontal\n",
        "arr=np.concatenate((arr1,arr2),axis=1)\n",
        "print(arr)"
      ],
      "metadata": {
        "colab": {
          "base_uri": "https://localhost:8080/"
        },
        "id": "DnvJ5itjp9Us",
        "outputId": "84d196ba-ceb8-42ad-ee56-8a55ca026cf8"
      },
      "execution_count": null,
      "outputs": [
        {
          "output_type": "stream",
          "name": "stdout",
          "text": [
            "[[1. 1. 1. 1. 0. 0. 0.]\n",
            " [1. 1. 1. 1. 0. 0. 0.]\n",
            " [1. 1. 1. 1. 0. 0. 0.]]\n"
          ]
        }
      ]
    },
    {
      "cell_type": "code",
      "source": [
        "#20.Write a function that vertically stacks multiple NumPy arrays given as a list.\n",
        "def vertical_stack(list):\n",
        "  arr=np.vstack(list)\n",
        "  return arr\n",
        "a=np.array([[1,2,3]])\n",
        "b=np.array([[4,5,6]])\n",
        "c=np.array([[7,8,9]])\n",
        "list=[a,b,c]\n",
        "vertical_stack(list)"
      ],
      "metadata": {
        "colab": {
          "base_uri": "https://localhost:8080/"
        },
        "id": "U-x-FJNRs83A",
        "outputId": "d310c287-6c9b-4a9a-a547-762c2432a8c2"
      },
      "execution_count": null,
      "outputs": [
        {
          "output_type": "execute_result",
          "data": {
            "text/plain": [
              "array([[1, 2, 3],\n",
              "       [4, 5, 6],\n",
              "       [7, 8, 9]])"
            ]
          },
          "metadata": {},
          "execution_count": 27
        }
      ]
    },
    {
      "cell_type": "code",
      "source": [
        "#21. Write a Python function using NumPy to create an array of integers within a specified range (inclusive) with a given step size.\n",
        "def create(start,stop,step):\n",
        "  stop+=1\n",
        "  arr=np.arange(start,stop,step)\n",
        "  return arr\n",
        "start=int(input(\"Enter start-\"))\n",
        "stop=int(input(\"Enter stop-\"))\n",
        "step=int(input(\"Enter step-\"))\n",
        "create(start,stop,step)"
      ],
      "metadata": {
        "colab": {
          "base_uri": "https://localhost:8080/"
        },
        "id": "IaquPfQ5vYIt",
        "outputId": "033a6b20-1f59-4027-a461-9c2b1afaa361"
      },
      "execution_count": null,
      "outputs": [
        {
          "name": "stdout",
          "output_type": "stream",
          "text": [
            "Enter start-0\n",
            "Enter stop-10\n",
            "Enter step-2\n"
          ]
        },
        {
          "output_type": "execute_result",
          "data": {
            "text/plain": [
              "array([ 0,  2,  4,  6,  8, 10])"
            ]
          },
          "metadata": {},
          "execution_count": 37
        }
      ]
    },
    {
      "cell_type": "code",
      "source": [
        "#22. Write a Python function using NumPy to generate an array of 10 equally spaced values between 0 and 1 (inclusive).\n",
        "def generate(start,stop):\n",
        "  arr=np.linspace(start,stop,10)\n",
        "  return arr\n",
        "start=float(input(\"Enter start-\"))\n",
        "stop=float(input(\"Enter stop-\"))\n",
        "generate(start,stop)"
      ],
      "metadata": {
        "colab": {
          "base_uri": "https://localhost:8080/"
        },
        "id": "y2YxmDwcxWx4",
        "outputId": "3cfe42e1-c4cd-4b6c-832e-f4eee6096f94"
      },
      "execution_count": null,
      "outputs": [
        {
          "name": "stdout",
          "output_type": "stream",
          "text": [
            "Enter start-0\n",
            "Enter stop-0.01\n"
          ]
        },
        {
          "output_type": "execute_result",
          "data": {
            "text/plain": [
              "array([0.        , 0.00111111, 0.00222222, 0.00333333, 0.00444444,\n",
              "       0.00555556, 0.00666667, 0.00777778, 0.00888889, 0.01      ])"
            ]
          },
          "metadata": {},
          "execution_count": 39
        }
      ]
    },
    {
      "cell_type": "code",
      "source": [
        "#23.Write a Python function using NumPy to create an array of 5 logarithmically spaced values between 1 and 1000 (inclusive).\n",
        "def log_space():\n",
        "  arr=np.logspace(1,1000,5)\n",
        "  return arr\n",
        "log_space()"
      ],
      "metadata": {
        "colab": {
          "base_uri": "https://localhost:8080/"
        },
        "id": "T1nTCQqBx17Q",
        "outputId": "7c4395b9-3208-43ef-f7e5-54a601af6b43"
      },
      "execution_count": null,
      "outputs": [
        {
          "output_type": "execute_result",
          "data": {
            "text/plain": [
              "array([1.00000000e+001, 5.62341325e+250,             inf,             inf,\n",
              "                   inf])"
            ]
          },
          "metadata": {},
          "execution_count": 43
        }
      ]
    },
    {
      "cell_type": "code",
      "source": [
        "#24. Create a Pandas DataFrame using a NumPy array that contains 5 rows and 3 columns, where the values are random integers between 1 and 100.\n",
        "import pandas as pd\n",
        "import numpy as np\n",
        "arr=np.random.randint(1,100,(5,3))\n",
        "df=pd.DataFrame(arr)\n",
        "df"
      ],
      "metadata": {
        "colab": {
          "base_uri": "https://localhost:8080/",
          "height": 206
        },
        "id": "0ETknwQwy-ZP",
        "outputId": "6ed3c7ac-6668-49ce-8b16-6ce4dcf853c3"
      },
      "execution_count": null,
      "outputs": [
        {
          "output_type": "execute_result",
          "data": {
            "text/plain": [
              "    0   1   2\n",
              "0  79  52  50\n",
              "1  89  27  50\n",
              "2  58   6  27\n",
              "3  94  66  52\n",
              "4  69  51  19"
            ],
            "text/html": [
              "\n",
              "  <div id=\"df-62d304a9-9485-478e-9416-0047672b54c2\" class=\"colab-df-container\">\n",
              "    <div>\n",
              "<style scoped>\n",
              "    .dataframe tbody tr th:only-of-type {\n",
              "        vertical-align: middle;\n",
              "    }\n",
              "\n",
              "    .dataframe tbody tr th {\n",
              "        vertical-align: top;\n",
              "    }\n",
              "\n",
              "    .dataframe thead th {\n",
              "        text-align: right;\n",
              "    }\n",
              "</style>\n",
              "<table border=\"1\" class=\"dataframe\">\n",
              "  <thead>\n",
              "    <tr style=\"text-align: right;\">\n",
              "      <th></th>\n",
              "      <th>0</th>\n",
              "      <th>1</th>\n",
              "      <th>2</th>\n",
              "    </tr>\n",
              "  </thead>\n",
              "  <tbody>\n",
              "    <tr>\n",
              "      <th>0</th>\n",
              "      <td>79</td>\n",
              "      <td>52</td>\n",
              "      <td>50</td>\n",
              "    </tr>\n",
              "    <tr>\n",
              "      <th>1</th>\n",
              "      <td>89</td>\n",
              "      <td>27</td>\n",
              "      <td>50</td>\n",
              "    </tr>\n",
              "    <tr>\n",
              "      <th>2</th>\n",
              "      <td>58</td>\n",
              "      <td>6</td>\n",
              "      <td>27</td>\n",
              "    </tr>\n",
              "    <tr>\n",
              "      <th>3</th>\n",
              "      <td>94</td>\n",
              "      <td>66</td>\n",
              "      <td>52</td>\n",
              "    </tr>\n",
              "    <tr>\n",
              "      <th>4</th>\n",
              "      <td>69</td>\n",
              "      <td>51</td>\n",
              "      <td>19</td>\n",
              "    </tr>\n",
              "  </tbody>\n",
              "</table>\n",
              "</div>\n",
              "    <div class=\"colab-df-buttons\">\n",
              "\n",
              "  <div class=\"colab-df-container\">\n",
              "    <button class=\"colab-df-convert\" onclick=\"convertToInteractive('df-62d304a9-9485-478e-9416-0047672b54c2')\"\n",
              "            title=\"Convert this dataframe to an interactive table.\"\n",
              "            style=\"display:none;\">\n",
              "\n",
              "  <svg xmlns=\"http://www.w3.org/2000/svg\" height=\"24px\" viewBox=\"0 -960 960 960\">\n",
              "    <path d=\"M120-120v-720h720v720H120Zm60-500h600v-160H180v160Zm220 220h160v-160H400v160Zm0 220h160v-160H400v160ZM180-400h160v-160H180v160Zm440 0h160v-160H620v160ZM180-180h160v-160H180v160Zm440 0h160v-160H620v160Z\"/>\n",
              "  </svg>\n",
              "    </button>\n",
              "\n",
              "  <style>\n",
              "    .colab-df-container {\n",
              "      display:flex;\n",
              "      gap: 12px;\n",
              "    }\n",
              "\n",
              "    .colab-df-convert {\n",
              "      background-color: #E8F0FE;\n",
              "      border: none;\n",
              "      border-radius: 50%;\n",
              "      cursor: pointer;\n",
              "      display: none;\n",
              "      fill: #1967D2;\n",
              "      height: 32px;\n",
              "      padding: 0 0 0 0;\n",
              "      width: 32px;\n",
              "    }\n",
              "\n",
              "    .colab-df-convert:hover {\n",
              "      background-color: #E2EBFA;\n",
              "      box-shadow: 0px 1px 2px rgba(60, 64, 67, 0.3), 0px 1px 3px 1px rgba(60, 64, 67, 0.15);\n",
              "      fill: #174EA6;\n",
              "    }\n",
              "\n",
              "    .colab-df-buttons div {\n",
              "      margin-bottom: 4px;\n",
              "    }\n",
              "\n",
              "    [theme=dark] .colab-df-convert {\n",
              "      background-color: #3B4455;\n",
              "      fill: #D2E3FC;\n",
              "    }\n",
              "\n",
              "    [theme=dark] .colab-df-convert:hover {\n",
              "      background-color: #434B5C;\n",
              "      box-shadow: 0px 1px 3px 1px rgba(0, 0, 0, 0.15);\n",
              "      filter: drop-shadow(0px 1px 2px rgba(0, 0, 0, 0.3));\n",
              "      fill: #FFFFFF;\n",
              "    }\n",
              "  </style>\n",
              "\n",
              "    <script>\n",
              "      const buttonEl =\n",
              "        document.querySelector('#df-62d304a9-9485-478e-9416-0047672b54c2 button.colab-df-convert');\n",
              "      buttonEl.style.display =\n",
              "        google.colab.kernel.accessAllowed ? 'block' : 'none';\n",
              "\n",
              "      async function convertToInteractive(key) {\n",
              "        const element = document.querySelector('#df-62d304a9-9485-478e-9416-0047672b54c2');\n",
              "        const dataTable =\n",
              "          await google.colab.kernel.invokeFunction('convertToInteractive',\n",
              "                                                    [key], {});\n",
              "        if (!dataTable) return;\n",
              "\n",
              "        const docLinkHtml = 'Like what you see? Visit the ' +\n",
              "          '<a target=\"_blank\" href=https://colab.research.google.com/notebooks/data_table.ipynb>data table notebook</a>'\n",
              "          + ' to learn more about interactive tables.';\n",
              "        element.innerHTML = '';\n",
              "        dataTable['output_type'] = 'display_data';\n",
              "        await google.colab.output.renderOutput(dataTable, element);\n",
              "        const docLink = document.createElement('div');\n",
              "        docLink.innerHTML = docLinkHtml;\n",
              "        element.appendChild(docLink);\n",
              "      }\n",
              "    </script>\n",
              "  </div>\n",
              "\n",
              "\n",
              "<div id=\"df-0d299f19-190d-4110-a913-581e7f6131d0\">\n",
              "  <button class=\"colab-df-quickchart\" onclick=\"quickchart('df-0d299f19-190d-4110-a913-581e7f6131d0')\"\n",
              "            title=\"Suggest charts\"\n",
              "            style=\"display:none;\">\n",
              "\n",
              "<svg xmlns=\"http://www.w3.org/2000/svg\" height=\"24px\"viewBox=\"0 0 24 24\"\n",
              "     width=\"24px\">\n",
              "    <g>\n",
              "        <path d=\"M19 3H5c-1.1 0-2 .9-2 2v14c0 1.1.9 2 2 2h14c1.1 0 2-.9 2-2V5c0-1.1-.9-2-2-2zM9 17H7v-7h2v7zm4 0h-2V7h2v10zm4 0h-2v-4h2v4z\"/>\n",
              "    </g>\n",
              "</svg>\n",
              "  </button>\n",
              "\n",
              "<style>\n",
              "  .colab-df-quickchart {\n",
              "      --bg-color: #E8F0FE;\n",
              "      --fill-color: #1967D2;\n",
              "      --hover-bg-color: #E2EBFA;\n",
              "      --hover-fill-color: #174EA6;\n",
              "      --disabled-fill-color: #AAA;\n",
              "      --disabled-bg-color: #DDD;\n",
              "  }\n",
              "\n",
              "  [theme=dark] .colab-df-quickchart {\n",
              "      --bg-color: #3B4455;\n",
              "      --fill-color: #D2E3FC;\n",
              "      --hover-bg-color: #434B5C;\n",
              "      --hover-fill-color: #FFFFFF;\n",
              "      --disabled-bg-color: #3B4455;\n",
              "      --disabled-fill-color: #666;\n",
              "  }\n",
              "\n",
              "  .colab-df-quickchart {\n",
              "    background-color: var(--bg-color);\n",
              "    border: none;\n",
              "    border-radius: 50%;\n",
              "    cursor: pointer;\n",
              "    display: none;\n",
              "    fill: var(--fill-color);\n",
              "    height: 32px;\n",
              "    padding: 0;\n",
              "    width: 32px;\n",
              "  }\n",
              "\n",
              "  .colab-df-quickchart:hover {\n",
              "    background-color: var(--hover-bg-color);\n",
              "    box-shadow: 0 1px 2px rgba(60, 64, 67, 0.3), 0 1px 3px 1px rgba(60, 64, 67, 0.15);\n",
              "    fill: var(--button-hover-fill-color);\n",
              "  }\n",
              "\n",
              "  .colab-df-quickchart-complete:disabled,\n",
              "  .colab-df-quickchart-complete:disabled:hover {\n",
              "    background-color: var(--disabled-bg-color);\n",
              "    fill: var(--disabled-fill-color);\n",
              "    box-shadow: none;\n",
              "  }\n",
              "\n",
              "  .colab-df-spinner {\n",
              "    border: 2px solid var(--fill-color);\n",
              "    border-color: transparent;\n",
              "    border-bottom-color: var(--fill-color);\n",
              "    animation:\n",
              "      spin 1s steps(1) infinite;\n",
              "  }\n",
              "\n",
              "  @keyframes spin {\n",
              "    0% {\n",
              "      border-color: transparent;\n",
              "      border-bottom-color: var(--fill-color);\n",
              "      border-left-color: var(--fill-color);\n",
              "    }\n",
              "    20% {\n",
              "      border-color: transparent;\n",
              "      border-left-color: var(--fill-color);\n",
              "      border-top-color: var(--fill-color);\n",
              "    }\n",
              "    30% {\n",
              "      border-color: transparent;\n",
              "      border-left-color: var(--fill-color);\n",
              "      border-top-color: var(--fill-color);\n",
              "      border-right-color: var(--fill-color);\n",
              "    }\n",
              "    40% {\n",
              "      border-color: transparent;\n",
              "      border-right-color: var(--fill-color);\n",
              "      border-top-color: var(--fill-color);\n",
              "    }\n",
              "    60% {\n",
              "      border-color: transparent;\n",
              "      border-right-color: var(--fill-color);\n",
              "    }\n",
              "    80% {\n",
              "      border-color: transparent;\n",
              "      border-right-color: var(--fill-color);\n",
              "      border-bottom-color: var(--fill-color);\n",
              "    }\n",
              "    90% {\n",
              "      border-color: transparent;\n",
              "      border-bottom-color: var(--fill-color);\n",
              "    }\n",
              "  }\n",
              "</style>\n",
              "\n",
              "  <script>\n",
              "    async function quickchart(key) {\n",
              "      const quickchartButtonEl =\n",
              "        document.querySelector('#' + key + ' button');\n",
              "      quickchartButtonEl.disabled = true;  // To prevent multiple clicks.\n",
              "      quickchartButtonEl.classList.add('colab-df-spinner');\n",
              "      try {\n",
              "        const charts = await google.colab.kernel.invokeFunction(\n",
              "            'suggestCharts', [key], {});\n",
              "      } catch (error) {\n",
              "        console.error('Error during call to suggestCharts:', error);\n",
              "      }\n",
              "      quickchartButtonEl.classList.remove('colab-df-spinner');\n",
              "      quickchartButtonEl.classList.add('colab-df-quickchart-complete');\n",
              "    }\n",
              "    (() => {\n",
              "      let quickchartButtonEl =\n",
              "        document.querySelector('#df-0d299f19-190d-4110-a913-581e7f6131d0 button');\n",
              "      quickchartButtonEl.style.display =\n",
              "        google.colab.kernel.accessAllowed ? 'block' : 'none';\n",
              "    })();\n",
              "  </script>\n",
              "</div>\n",
              "\n",
              "  <div id=\"id_2ea3ec75-b26d-4a7d-9e1b-b28e6198b3ac\">\n",
              "    <style>\n",
              "      .colab-df-generate {\n",
              "        background-color: #E8F0FE;\n",
              "        border: none;\n",
              "        border-radius: 50%;\n",
              "        cursor: pointer;\n",
              "        display: none;\n",
              "        fill: #1967D2;\n",
              "        height: 32px;\n",
              "        padding: 0 0 0 0;\n",
              "        width: 32px;\n",
              "      }\n",
              "\n",
              "      .colab-df-generate:hover {\n",
              "        background-color: #E2EBFA;\n",
              "        box-shadow: 0px 1px 2px rgba(60, 64, 67, 0.3), 0px 1px 3px 1px rgba(60, 64, 67, 0.15);\n",
              "        fill: #174EA6;\n",
              "      }\n",
              "\n",
              "      [theme=dark] .colab-df-generate {\n",
              "        background-color: #3B4455;\n",
              "        fill: #D2E3FC;\n",
              "      }\n",
              "\n",
              "      [theme=dark] .colab-df-generate:hover {\n",
              "        background-color: #434B5C;\n",
              "        box-shadow: 0px 1px 3px 1px rgba(0, 0, 0, 0.15);\n",
              "        filter: drop-shadow(0px 1px 2px rgba(0, 0, 0, 0.3));\n",
              "        fill: #FFFFFF;\n",
              "      }\n",
              "    </style>\n",
              "    <button class=\"colab-df-generate\" onclick=\"generateWithVariable('df')\"\n",
              "            title=\"Generate code using this dataframe.\"\n",
              "            style=\"display:none;\">\n",
              "\n",
              "  <svg xmlns=\"http://www.w3.org/2000/svg\" height=\"24px\"viewBox=\"0 0 24 24\"\n",
              "       width=\"24px\">\n",
              "    <path d=\"M7,19H8.4L18.45,9,17,7.55,7,17.6ZM5,21V16.75L18.45,3.32a2,2,0,0,1,2.83,0l1.4,1.43a1.91,1.91,0,0,1,.58,1.4,1.91,1.91,0,0,1-.58,1.4L9.25,21ZM18.45,9,17,7.55Zm-12,3A5.31,5.31,0,0,0,4.9,8.1,5.31,5.31,0,0,0,1,6.5,5.31,5.31,0,0,0,4.9,4.9,5.31,5.31,0,0,0,6.5,1,5.31,5.31,0,0,0,8.1,4.9,5.31,5.31,0,0,0,12,6.5,5.46,5.46,0,0,0,6.5,12Z\"/>\n",
              "  </svg>\n",
              "    </button>\n",
              "    <script>\n",
              "      (() => {\n",
              "      const buttonEl =\n",
              "        document.querySelector('#id_2ea3ec75-b26d-4a7d-9e1b-b28e6198b3ac button.colab-df-generate');\n",
              "      buttonEl.style.display =\n",
              "        google.colab.kernel.accessAllowed ? 'block' : 'none';\n",
              "\n",
              "      buttonEl.onclick = () => {\n",
              "        google.colab.notebook.generateWithVariable('df');\n",
              "      }\n",
              "      })();\n",
              "    </script>\n",
              "  </div>\n",
              "\n",
              "    </div>\n",
              "  </div>\n"
            ],
            "application/vnd.google.colaboratory.intrinsic+json": {
              "type": "dataframe",
              "variable_name": "df",
              "summary": "{\n  \"name\": \"df\",\n  \"rows\": 5,\n  \"fields\": [\n    {\n      \"column\": 0,\n      \"properties\": {\n        \"dtype\": \"number\",\n        \"std\": 14,\n        \"min\": 58,\n        \"max\": 94,\n        \"num_unique_values\": 5,\n        \"samples\": [\n          89,\n          69,\n          58\n        ],\n        \"semantic_type\": \"\",\n        \"description\": \"\"\n      }\n    },\n    {\n      \"column\": 1,\n      \"properties\": {\n        \"dtype\": \"number\",\n        \"std\": 23,\n        \"min\": 6,\n        \"max\": 66,\n        \"num_unique_values\": 5,\n        \"samples\": [\n          27,\n          51,\n          6\n        ],\n        \"semantic_type\": \"\",\n        \"description\": \"\"\n      }\n    },\n    {\n      \"column\": 2,\n      \"properties\": {\n        \"dtype\": \"number\",\n        \"std\": 15,\n        \"min\": 19,\n        \"max\": 52,\n        \"num_unique_values\": 4,\n        \"samples\": [\n          27,\n          19,\n          50\n        ],\n        \"semantic_type\": \"\",\n        \"description\": \"\"\n      }\n    }\n  ]\n}"
            }
          },
          "metadata": {},
          "execution_count": 2
        }
      ]
    },
    {
      "cell_type": "code",
      "source": [
        "#25.Write a function that takes a Pandas DataFrame and replaces all negative values in a specific column with zeros. Use NumPy operations within the Pandas DataFrame.\n",
        "def replace(x):\n",
        "  if x<0:\n",
        "    return 0\n",
        "  else:\n",
        "    return x\n",
        "arr=np.arange(-10,10)\n",
        "df=pd.DataFrame(arr)\n",
        "df.applymap(replace)"
      ],
      "metadata": {
        "colab": {
          "base_uri": "https://localhost:8080/",
          "height": 676
        },
        "id": "k5hZcMHJzgU7",
        "outputId": "2ad877a5-5482-43ee-c6c8-afcde40cce83"
      },
      "execution_count": null,
      "outputs": [
        {
          "output_type": "execute_result",
          "data": {
            "text/plain": [
              "    0\n",
              "0   0\n",
              "1   0\n",
              "2   0\n",
              "3   0\n",
              "4   0\n",
              "5   0\n",
              "6   0\n",
              "7   0\n",
              "8   0\n",
              "9   0\n",
              "10  0\n",
              "11  1\n",
              "12  2\n",
              "13  3\n",
              "14  4\n",
              "15  5\n",
              "16  6\n",
              "17  7\n",
              "18  8\n",
              "19  9"
            ],
            "text/html": [
              "\n",
              "  <div id=\"df-3fb1e88b-e415-4cda-a308-8bb6f400f8eb\" class=\"colab-df-container\">\n",
              "    <div>\n",
              "<style scoped>\n",
              "    .dataframe tbody tr th:only-of-type {\n",
              "        vertical-align: middle;\n",
              "    }\n",
              "\n",
              "    .dataframe tbody tr th {\n",
              "        vertical-align: top;\n",
              "    }\n",
              "\n",
              "    .dataframe thead th {\n",
              "        text-align: right;\n",
              "    }\n",
              "</style>\n",
              "<table border=\"1\" class=\"dataframe\">\n",
              "  <thead>\n",
              "    <tr style=\"text-align: right;\">\n",
              "      <th></th>\n",
              "      <th>0</th>\n",
              "    </tr>\n",
              "  </thead>\n",
              "  <tbody>\n",
              "    <tr>\n",
              "      <th>0</th>\n",
              "      <td>0</td>\n",
              "    </tr>\n",
              "    <tr>\n",
              "      <th>1</th>\n",
              "      <td>0</td>\n",
              "    </tr>\n",
              "    <tr>\n",
              "      <th>2</th>\n",
              "      <td>0</td>\n",
              "    </tr>\n",
              "    <tr>\n",
              "      <th>3</th>\n",
              "      <td>0</td>\n",
              "    </tr>\n",
              "    <tr>\n",
              "      <th>4</th>\n",
              "      <td>0</td>\n",
              "    </tr>\n",
              "    <tr>\n",
              "      <th>5</th>\n",
              "      <td>0</td>\n",
              "    </tr>\n",
              "    <tr>\n",
              "      <th>6</th>\n",
              "      <td>0</td>\n",
              "    </tr>\n",
              "    <tr>\n",
              "      <th>7</th>\n",
              "      <td>0</td>\n",
              "    </tr>\n",
              "    <tr>\n",
              "      <th>8</th>\n",
              "      <td>0</td>\n",
              "    </tr>\n",
              "    <tr>\n",
              "      <th>9</th>\n",
              "      <td>0</td>\n",
              "    </tr>\n",
              "    <tr>\n",
              "      <th>10</th>\n",
              "      <td>0</td>\n",
              "    </tr>\n",
              "    <tr>\n",
              "      <th>11</th>\n",
              "      <td>1</td>\n",
              "    </tr>\n",
              "    <tr>\n",
              "      <th>12</th>\n",
              "      <td>2</td>\n",
              "    </tr>\n",
              "    <tr>\n",
              "      <th>13</th>\n",
              "      <td>3</td>\n",
              "    </tr>\n",
              "    <tr>\n",
              "      <th>14</th>\n",
              "      <td>4</td>\n",
              "    </tr>\n",
              "    <tr>\n",
              "      <th>15</th>\n",
              "      <td>5</td>\n",
              "    </tr>\n",
              "    <tr>\n",
              "      <th>16</th>\n",
              "      <td>6</td>\n",
              "    </tr>\n",
              "    <tr>\n",
              "      <th>17</th>\n",
              "      <td>7</td>\n",
              "    </tr>\n",
              "    <tr>\n",
              "      <th>18</th>\n",
              "      <td>8</td>\n",
              "    </tr>\n",
              "    <tr>\n",
              "      <th>19</th>\n",
              "      <td>9</td>\n",
              "    </tr>\n",
              "  </tbody>\n",
              "</table>\n",
              "</div>\n",
              "    <div class=\"colab-df-buttons\">\n",
              "\n",
              "  <div class=\"colab-df-container\">\n",
              "    <button class=\"colab-df-convert\" onclick=\"convertToInteractive('df-3fb1e88b-e415-4cda-a308-8bb6f400f8eb')\"\n",
              "            title=\"Convert this dataframe to an interactive table.\"\n",
              "            style=\"display:none;\">\n",
              "\n",
              "  <svg xmlns=\"http://www.w3.org/2000/svg\" height=\"24px\" viewBox=\"0 -960 960 960\">\n",
              "    <path d=\"M120-120v-720h720v720H120Zm60-500h600v-160H180v160Zm220 220h160v-160H400v160Zm0 220h160v-160H400v160ZM180-400h160v-160H180v160Zm440 0h160v-160H620v160ZM180-180h160v-160H180v160Zm440 0h160v-160H620v160Z\"/>\n",
              "  </svg>\n",
              "    </button>\n",
              "\n",
              "  <style>\n",
              "    .colab-df-container {\n",
              "      display:flex;\n",
              "      gap: 12px;\n",
              "    }\n",
              "\n",
              "    .colab-df-convert {\n",
              "      background-color: #E8F0FE;\n",
              "      border: none;\n",
              "      border-radius: 50%;\n",
              "      cursor: pointer;\n",
              "      display: none;\n",
              "      fill: #1967D2;\n",
              "      height: 32px;\n",
              "      padding: 0 0 0 0;\n",
              "      width: 32px;\n",
              "    }\n",
              "\n",
              "    .colab-df-convert:hover {\n",
              "      background-color: #E2EBFA;\n",
              "      box-shadow: 0px 1px 2px rgba(60, 64, 67, 0.3), 0px 1px 3px 1px rgba(60, 64, 67, 0.15);\n",
              "      fill: #174EA6;\n",
              "    }\n",
              "\n",
              "    .colab-df-buttons div {\n",
              "      margin-bottom: 4px;\n",
              "    }\n",
              "\n",
              "    [theme=dark] .colab-df-convert {\n",
              "      background-color: #3B4455;\n",
              "      fill: #D2E3FC;\n",
              "    }\n",
              "\n",
              "    [theme=dark] .colab-df-convert:hover {\n",
              "      background-color: #434B5C;\n",
              "      box-shadow: 0px 1px 3px 1px rgba(0, 0, 0, 0.15);\n",
              "      filter: drop-shadow(0px 1px 2px rgba(0, 0, 0, 0.3));\n",
              "      fill: #FFFFFF;\n",
              "    }\n",
              "  </style>\n",
              "\n",
              "    <script>\n",
              "      const buttonEl =\n",
              "        document.querySelector('#df-3fb1e88b-e415-4cda-a308-8bb6f400f8eb button.colab-df-convert');\n",
              "      buttonEl.style.display =\n",
              "        google.colab.kernel.accessAllowed ? 'block' : 'none';\n",
              "\n",
              "      async function convertToInteractive(key) {\n",
              "        const element = document.querySelector('#df-3fb1e88b-e415-4cda-a308-8bb6f400f8eb');\n",
              "        const dataTable =\n",
              "          await google.colab.kernel.invokeFunction('convertToInteractive',\n",
              "                                                    [key], {});\n",
              "        if (!dataTable) return;\n",
              "\n",
              "        const docLinkHtml = 'Like what you see? Visit the ' +\n",
              "          '<a target=\"_blank\" href=https://colab.research.google.com/notebooks/data_table.ipynb>data table notebook</a>'\n",
              "          + ' to learn more about interactive tables.';\n",
              "        element.innerHTML = '';\n",
              "        dataTable['output_type'] = 'display_data';\n",
              "        await google.colab.output.renderOutput(dataTable, element);\n",
              "        const docLink = document.createElement('div');\n",
              "        docLink.innerHTML = docLinkHtml;\n",
              "        element.appendChild(docLink);\n",
              "      }\n",
              "    </script>\n",
              "  </div>\n",
              "\n",
              "\n",
              "<div id=\"df-84374c94-975e-4ea7-bbf2-03acfe18897b\">\n",
              "  <button class=\"colab-df-quickchart\" onclick=\"quickchart('df-84374c94-975e-4ea7-bbf2-03acfe18897b')\"\n",
              "            title=\"Suggest charts\"\n",
              "            style=\"display:none;\">\n",
              "\n",
              "<svg xmlns=\"http://www.w3.org/2000/svg\" height=\"24px\"viewBox=\"0 0 24 24\"\n",
              "     width=\"24px\">\n",
              "    <g>\n",
              "        <path d=\"M19 3H5c-1.1 0-2 .9-2 2v14c0 1.1.9 2 2 2h14c1.1 0 2-.9 2-2V5c0-1.1-.9-2-2-2zM9 17H7v-7h2v7zm4 0h-2V7h2v10zm4 0h-2v-4h2v4z\"/>\n",
              "    </g>\n",
              "</svg>\n",
              "  </button>\n",
              "\n",
              "<style>\n",
              "  .colab-df-quickchart {\n",
              "      --bg-color: #E8F0FE;\n",
              "      --fill-color: #1967D2;\n",
              "      --hover-bg-color: #E2EBFA;\n",
              "      --hover-fill-color: #174EA6;\n",
              "      --disabled-fill-color: #AAA;\n",
              "      --disabled-bg-color: #DDD;\n",
              "  }\n",
              "\n",
              "  [theme=dark] .colab-df-quickchart {\n",
              "      --bg-color: #3B4455;\n",
              "      --fill-color: #D2E3FC;\n",
              "      --hover-bg-color: #434B5C;\n",
              "      --hover-fill-color: #FFFFFF;\n",
              "      --disabled-bg-color: #3B4455;\n",
              "      --disabled-fill-color: #666;\n",
              "  }\n",
              "\n",
              "  .colab-df-quickchart {\n",
              "    background-color: var(--bg-color);\n",
              "    border: none;\n",
              "    border-radius: 50%;\n",
              "    cursor: pointer;\n",
              "    display: none;\n",
              "    fill: var(--fill-color);\n",
              "    height: 32px;\n",
              "    padding: 0;\n",
              "    width: 32px;\n",
              "  }\n",
              "\n",
              "  .colab-df-quickchart:hover {\n",
              "    background-color: var(--hover-bg-color);\n",
              "    box-shadow: 0 1px 2px rgba(60, 64, 67, 0.3), 0 1px 3px 1px rgba(60, 64, 67, 0.15);\n",
              "    fill: var(--button-hover-fill-color);\n",
              "  }\n",
              "\n",
              "  .colab-df-quickchart-complete:disabled,\n",
              "  .colab-df-quickchart-complete:disabled:hover {\n",
              "    background-color: var(--disabled-bg-color);\n",
              "    fill: var(--disabled-fill-color);\n",
              "    box-shadow: none;\n",
              "  }\n",
              "\n",
              "  .colab-df-spinner {\n",
              "    border: 2px solid var(--fill-color);\n",
              "    border-color: transparent;\n",
              "    border-bottom-color: var(--fill-color);\n",
              "    animation:\n",
              "      spin 1s steps(1) infinite;\n",
              "  }\n",
              "\n",
              "  @keyframes spin {\n",
              "    0% {\n",
              "      border-color: transparent;\n",
              "      border-bottom-color: var(--fill-color);\n",
              "      border-left-color: var(--fill-color);\n",
              "    }\n",
              "    20% {\n",
              "      border-color: transparent;\n",
              "      border-left-color: var(--fill-color);\n",
              "      border-top-color: var(--fill-color);\n",
              "    }\n",
              "    30% {\n",
              "      border-color: transparent;\n",
              "      border-left-color: var(--fill-color);\n",
              "      border-top-color: var(--fill-color);\n",
              "      border-right-color: var(--fill-color);\n",
              "    }\n",
              "    40% {\n",
              "      border-color: transparent;\n",
              "      border-right-color: var(--fill-color);\n",
              "      border-top-color: var(--fill-color);\n",
              "    }\n",
              "    60% {\n",
              "      border-color: transparent;\n",
              "      border-right-color: var(--fill-color);\n",
              "    }\n",
              "    80% {\n",
              "      border-color: transparent;\n",
              "      border-right-color: var(--fill-color);\n",
              "      border-bottom-color: var(--fill-color);\n",
              "    }\n",
              "    90% {\n",
              "      border-color: transparent;\n",
              "      border-bottom-color: var(--fill-color);\n",
              "    }\n",
              "  }\n",
              "</style>\n",
              "\n",
              "  <script>\n",
              "    async function quickchart(key) {\n",
              "      const quickchartButtonEl =\n",
              "        document.querySelector('#' + key + ' button');\n",
              "      quickchartButtonEl.disabled = true;  // To prevent multiple clicks.\n",
              "      quickchartButtonEl.classList.add('colab-df-spinner');\n",
              "      try {\n",
              "        const charts = await google.colab.kernel.invokeFunction(\n",
              "            'suggestCharts', [key], {});\n",
              "      } catch (error) {\n",
              "        console.error('Error during call to suggestCharts:', error);\n",
              "      }\n",
              "      quickchartButtonEl.classList.remove('colab-df-spinner');\n",
              "      quickchartButtonEl.classList.add('colab-df-quickchart-complete');\n",
              "    }\n",
              "    (() => {\n",
              "      let quickchartButtonEl =\n",
              "        document.querySelector('#df-84374c94-975e-4ea7-bbf2-03acfe18897b button');\n",
              "      quickchartButtonEl.style.display =\n",
              "        google.colab.kernel.accessAllowed ? 'block' : 'none';\n",
              "    })();\n",
              "  </script>\n",
              "</div>\n",
              "\n",
              "    </div>\n",
              "  </div>\n"
            ],
            "application/vnd.google.colaboratory.intrinsic+json": {
              "type": "dataframe",
              "summary": "{\n  \"name\": \"df\",\n  \"rows\": 20,\n  \"fields\": [\n    {\n      \"column\": 0,\n      \"properties\": {\n        \"dtype\": \"number\",\n        \"std\": 3,\n        \"min\": 0,\n        \"max\": 9,\n        \"num_unique_values\": 10,\n        \"samples\": [\n          8,\n          1,\n          5\n        ],\n        \"semantic_type\": \"\",\n        \"description\": \"\"\n      }\n    }\n  ]\n}"
            }
          },
          "metadata": {},
          "execution_count": 64
        }
      ]
    },
    {
      "cell_type": "code",
      "source": [
        " #26.Access the 3rd element from the given NumPy array. arr = np.array([10, 20, 30, 40, 50])\n",
        " arr = np.array([10, 20, 30, 40, 50])\n",
        " arr[2]"
      ],
      "metadata": {
        "colab": {
          "base_uri": "https://localhost:8080/"
        },
        "id": "obJwdEkW2aI8",
        "outputId": "d3483f01-33bd-482b-fb59-4bdd01cc09b8"
      },
      "execution_count": null,
      "outputs": [
        {
          "output_type": "execute_result",
          "data": {
            "text/plain": [
              "30"
            ]
          },
          "metadata": {},
          "execution_count": 65
        }
      ]
    },
    {
      "cell_type": "code",
      "source": [
        "#27.Retrieve the element at index (1, 2) from the 2D NumPy array.\n",
        "arr_2d = np.array([[1, 2, 3],\n",
        "                   [4, 5, 6],\n",
        "                   [7, 8, 9]])\n",
        "arr_2d[1,2]"
      ],
      "metadata": {
        "colab": {
          "base_uri": "https://localhost:8080/"
        },
        "id": "U8dwlEqx4xeS",
        "outputId": "42fe76bb-359d-4295-de4c-56f25fd53e85"
      },
      "execution_count": null,
      "outputs": [
        {
          "output_type": "execute_result",
          "data": {
            "text/plain": [
              "6"
            ]
          },
          "metadata": {},
          "execution_count": 68
        }
      ]
    },
    {
      "cell_type": "code",
      "source": [
        "#28.Using boolean indexing, extract elements greater than 5 from the given NumPy array. arr = np.array([3, 8, 2, 10, 5, 7])\n",
        "arr = np.array([3, 8, 2, 10, 5, 7])\n",
        "arr[arr>5]"
      ],
      "metadata": {
        "colab": {
          "base_uri": "https://localhost:8080/"
        },
        "id": "j6zigk_Q5qon",
        "outputId": "cc1bf288-6ce8-469b-a645-2257d5c4487e"
      },
      "execution_count": null,
      "outputs": [
        {
          "output_type": "execute_result",
          "data": {
            "text/plain": [
              "array([ 8, 10,  7])"
            ]
          },
          "metadata": {},
          "execution_count": 67
        }
      ]
    },
    {
      "cell_type": "code",
      "source": [
        "#29. Perform basic slicing to extract elements from index 2 to 5 (inclusive) from the given NumPy array. arr = np.array([1, 2, 3, 4, 5, 6, 7, 8, 9])\n",
        "arr = np.array([1, 2, 3, 4, 5, 6, 7, 8, 9])\n",
        "arr[2:6]"
      ],
      "metadata": {
        "colab": {
          "base_uri": "https://localhost:8080/"
        },
        "id": "CpPpPVoo59xP",
        "outputId": "01e72f9a-b69c-44f5-8cdf-75dab86bc152"
      },
      "execution_count": null,
      "outputs": [
        {
          "output_type": "execute_result",
          "data": {
            "text/plain": [
              "array([3, 4, 5, 6])"
            ]
          },
          "metadata": {},
          "execution_count": 69
        }
      ]
    },
    {
      "cell_type": "code",
      "source": [
        "#30.Slice the 2D NumPy array to extract the sub-array `[[2, 3], [5, 6]]` from the given array.\n",
        "arr_2d = np.array([[1, 2, 3],\n",
        "                   [4, 5, 6],\n",
        "                   [7, 8, 9]])\n",
        "arr_2d[0:2,1:3]"
      ],
      "metadata": {
        "colab": {
          "base_uri": "https://localhost:8080/"
        },
        "id": "u9Ni5dy07S1y",
        "outputId": "35761a0d-88fe-41e4-8531-1c8a9f9f9ac0"
      },
      "execution_count": null,
      "outputs": [
        {
          "output_type": "execute_result",
          "data": {
            "text/plain": [
              "array([[2, 3],\n",
              "       [5, 6]])"
            ]
          },
          "metadata": {},
          "execution_count": 5
        }
      ]
    },
    {
      "cell_type": "code",
      "source": [
        "#31.Write a NumPy function to extract elements in specific order from a given 2D array based on indices provided in another array.\n",
        "def extract_elements(arr, indexes):\n",
        "    return arr[indexes[:,0], indexes[:,1]]#the index[:,0] takes the first value of the first element from the set of list in the array and likewise indexes[:,1] takes second element to find the overall index of the array\n",
        "arr = np.array([[1, 2, 3], [4, 5, 6], [7, 8, 9]])\n",
        "indexes = np.array([[0, 1], [1, 2], [2, 0]])\n",
        "result = extract_elements(arr, indexes)\n",
        "print(result)"
      ],
      "metadata": {
        "colab": {
          "base_uri": "https://localhost:8080/"
        },
        "id": "vI4t8sOfQWIB",
        "outputId": "8c23ced6-50a9-422e-fa69-69115b3f842e"
      },
      "execution_count": null,
      "outputs": [
        {
          "output_type": "stream",
          "name": "stdout",
          "text": [
            "[2 6 7]\n"
          ]
        }
      ]
    },
    {
      "cell_type": "code",
      "source": [
        "#32. Create a NumPy function that filters elements greater than a threshold from a given 1D array using boolean indexing.\n",
        "def filter_elements(arr, threshold):\n",
        "    return arr[arr > threshold]\n",
        "arr=np.array([1,2,3,4,5,6,7,8,9])\n",
        "threshold=int(input(\"Enter threshold-\"))\n",
        "filter_elements(arr,threshold)"
      ],
      "metadata": {
        "colab": {
          "base_uri": "https://localhost:8080/"
        },
        "id": "WHXoxAebobau",
        "outputId": "b12adc2f-1cf8-48aa-e067-b83a9050ed9e"
      },
      "execution_count": null,
      "outputs": [
        {
          "name": "stdout",
          "output_type": "stream",
          "text": [
            "Enter threshold-4\n"
          ]
        },
        {
          "output_type": "execute_result",
          "data": {
            "text/plain": [
              "array([5, 6, 7, 8, 9])"
            ]
          },
          "metadata": {},
          "execution_count": 22
        }
      ]
    },
    {
      "cell_type": "code",
      "source": [
        "#33.Develop a NumPy function that extracts specific elements from a 3D array using indices provided in three separate arrays for each dimension.\n",
        "arr_3d = np.array([[[1, 2, 3], [4, 5, 6], [7, 8, 9]]])\n",
        "def extract_elements(arr_3d, indexes):\n",
        "    return arr_3d[indexes[:,0], indexes[:,1], indexes[:,2]]\n",
        "indexes = np.array([[0, 0, 0], [0, 1, 1], [0, 2, 2]])\n",
        "print(extract_elements(arr_3d, indexes))  # Output: [1 5 9]"
      ],
      "metadata": {
        "colab": {
          "base_uri": "https://localhost:8080/"
        },
        "id": "EyYX17fJrGtX",
        "outputId": "a9afb86d-a29e-43b7-cf64-4608b6800af7"
      },
      "execution_count": null,
      "outputs": [
        {
          "output_type": "stream",
          "name": "stdout",
          "text": [
            "[1 5 9]\n"
          ]
        }
      ]
    },
    {
      "cell_type": "code",
      "source": [
        "#34. Write a NumPy function that returns elements from an array where both two conditions are satisfied using boolean indexing.\n",
        "import numpy as np\n",
        "def filter(arr,con1,con2):\n",
        "  return arr[(con1)&(con2)]\n",
        "arr=np.array([1,2,3,4,5,6,7,8,9])\n",
        "con1=arr>5\n",
        "con2=arr%2==0\n",
        "filter(arr,con1,con2)"
      ],
      "metadata": {
        "colab": {
          "base_uri": "https://localhost:8080/"
        },
        "id": "KPr5PyB1OujM",
        "outputId": "0a6ca973-58f4-4817-af91-5f69c1cd74a5"
      },
      "execution_count": null,
      "outputs": [
        {
          "output_type": "execute_result",
          "data": {
            "text/plain": [
              "array([6, 8])"
            ]
          },
          "metadata": {},
          "execution_count": 2
        }
      ]
    },
    {
      "cell_type": "code",
      "source": [
        "#35. Create a NumPy function that extracts elements from a 2D array using row and column indices provided in separate arrays.\n",
        "def func(arr,indexes):\n",
        "  return arr[indexes[:,0],indexes[:,1]]\n",
        "arr=np.array([[1,2,3],[4,5,6],[7,8,9]])\n",
        "indexes=np.array([[0,1],[1,2],[2,2]])\n",
        "func(arr,indexes)"
      ],
      "metadata": {
        "colab": {
          "base_uri": "https://localhost:8080/"
        },
        "id": "9Sjy3MgBlMBJ",
        "outputId": "0d409b3d-4ed8-44b1-f6ae-7b2a0057f154"
      },
      "execution_count": null,
      "outputs": [
        {
          "output_type": "execute_result",
          "data": {
            "text/plain": [
              "array([2, 6, 9])"
            ]
          },
          "metadata": {},
          "execution_count": 6
        }
      ]
    },
    {
      "cell_type": "code",
      "source": [
        "#36.Given an array arr of shape (3, 3), add a scalar value of 5 to each element using NumPy broadcasting.\n",
        "arr=np.random.randn(3,3)\n",
        "arr+5\n"
      ],
      "metadata": {
        "colab": {
          "base_uri": "https://localhost:8080/"
        },
        "id": "X_VviTIpmgvr",
        "outputId": "12d1abab-4a00-47c7-8cb3-ae18fd419e2b"
      },
      "execution_count": null,
      "outputs": [
        {
          "output_type": "execute_result",
          "data": {
            "text/plain": [
              "array([[4.54951968, 4.2806838 , 4.12720047],\n",
              "       [5.62611595, 4.5001749 , 4.95267654],\n",
              "       [5.03782605, 4.6708717 , 5.40125672]])"
            ]
          },
          "metadata": {},
          "execution_count": 13
        }
      ]
    },
    {
      "cell_type": "code",
      "source": [
        "#37.Consider two arrays arr1 of shape (1, 3) and arr2 of shape (3, 4). Multiply each row of arr2 by the corresponding element in arr1 using NumPy broadcasting.\n",
        "arr=np.random.randint(1,10,(1,3))\n",
        "arr1=np.random.randint(1,10,(3,4))\n",
        "arr2=arr*arr#we can also use np.multiply\n",
        "arr2"
      ],
      "metadata": {
        "colab": {
          "base_uri": "https://localhost:8080/"
        },
        "id": "xyZgPrwomr0b",
        "outputId": "c689191e-6e50-4e58-8089-0cf660d863ff"
      },
      "execution_count": null,
      "outputs": [
        {
          "output_type": "execute_result",
          "data": {
            "text/plain": [
              "array([[36, 16, 36]])"
            ]
          },
          "metadata": {},
          "execution_count": 20
        }
      ]
    },
    {
      "cell_type": "code",
      "source": [
        "#38. Given a 1D array arr1 of shape (1, 4) and a 2D array arr2 of shape (4, 3), add arr1 to each row of arr2 using NumPy broadcasting.\n",
        "arr1=np.random.randint(1,10,(1,4))\n",
        "arr2=np.random.randint(1,10,(4,3))\n",
        "result = arr2 + arr1[:, :3]\n",
        "print(result)"
      ],
      "metadata": {
        "colab": {
          "base_uri": "https://localhost:8080/"
        },
        "id": "eeVivOoqrM8z",
        "outputId": "a5b1d5b0-97c5-4a41-c324-3e6a16aff793"
      },
      "execution_count": null,
      "outputs": [
        {
          "output_type": "stream",
          "name": "stdout",
          "text": [
            "[[17 12 16]\n",
            " [16 12 11]\n",
            " [15 12 14]\n",
            " [18 12 11]]\n"
          ]
        }
      ]
    },
    {
      "cell_type": "code",
      "source": [
        "#39.Consider two arrays arr1 of shape (3, 1) and arr2 of shape (1, 3). Add these arrays using NumPy broadcasting.\n",
        "arr1=np.random.randint(1,10,(3,1))\n",
        "arr2=np.random.randint(1,10,(1,3))\n",
        "arr1+arr2"
      ],
      "metadata": {
        "colab": {
          "base_uri": "https://localhost:8080/"
        },
        "id": "xliW8Bn0_xmU",
        "outputId": "25903d3a-5ee4-4b80-e812-81f0a944bad0"
      },
      "execution_count": null,
      "outputs": [
        {
          "output_type": "execute_result",
          "data": {
            "text/plain": [
              "array([[17,  9, 10],\n",
              "       [16,  8,  9],\n",
              "       [18, 10, 11]])"
            ]
          },
          "metadata": {},
          "execution_count": 28
        }
      ]
    },
    {
      "cell_type": "code",
      "source": [
        "#40. Given arrays arr1 of shape (2, 3) and arr2 of shape (2, 2), perform multiplication using NumPy broadcasting. Handle the shape incompatibility.\n",
        "arr1=np.random.randint(1,10,(2,3))\n",
        "arr2=np.random.randint(1,10,(2,2))\n",
        "np.multiply(arr1,arr2[:,:,np.newaxis])#the values which are left are transfered in this new axis"
      ],
      "metadata": {
        "colab": {
          "base_uri": "https://localhost:8080/"
        },
        "id": "7XTrxUYO_79G",
        "outputId": "f37eb543-db55-4e18-871a-5bad7a9434a2"
      },
      "execution_count": null,
      "outputs": [
        {
          "output_type": "execute_result",
          "data": {
            "text/plain": [
              "array([[[18, 48, 18],\n",
              "        [72, 72, 64]],\n",
              "\n",
              "       [[ 9, 24,  9],\n",
              "        [18, 18, 16]]])"
            ]
          },
          "metadata": {},
          "execution_count": 42
        }
      ]
    },
    {
      "cell_type": "code",
      "source": [
        "#41.Calculate column wise mean for the given array: arr = np.array([[1, 2, 3], [4, 5, 6]])\n",
        "arr = np.array([[1, 2, 3], [4, 5, 6]])\n",
        "np.mean(arr,axis=0)#for 2-d array axis=0 for column"
      ],
      "metadata": {
        "id": "-XJu8v1rFAjv",
        "colab": {
          "base_uri": "https://localhost:8080/"
        },
        "outputId": "036dbd53-5771-4864-cabe-e72a302892ae"
      },
      "execution_count": null,
      "outputs": [
        {
          "output_type": "execute_result",
          "data": {
            "text/plain": [
              "array([2.5, 3.5, 4.5])"
            ]
          },
          "metadata": {},
          "execution_count": 48
        }
      ]
    },
    {
      "cell_type": "code",
      "source": [
        "#42.Find maximum value in each row of the given array: arr = np.array([[1, 2, 3], [4, 5, 6]])\n",
        "arr = np.array([[1, 2, 3], [4, 5, 6]])\n",
        "np.max(arr,axis=1)#for 2-d array axis=1 for row"
      ],
      "metadata": {
        "colab": {
          "base_uri": "https://localhost:8080/"
        },
        "id": "gn8h_JHtTNZp",
        "outputId": "30842b28-4cd3-462c-8bf8-82f8e9362de5"
      },
      "execution_count": null,
      "outputs": [
        {
          "output_type": "execute_result",
          "data": {
            "text/plain": [
              "array([3, 6])"
            ]
          },
          "metadata": {},
          "execution_count": 47
        }
      ]
    },
    {
      "cell_type": "code",
      "source": [
        "#43.For the given array, find indices of maximum value in each column.arr = np.array([[1, 2, 3], [4, 5, 6]])\n",
        "arr = np.array([[1, 2, 3], [4, 5, 6]])\n",
        "np.argmax()"
      ],
      "metadata": {
        "colab": {
          "base_uri": "https://localhost:8080/"
        },
        "id": "fb07MkFWUC3T",
        "outputId": "a8ffb90d-1a87-4925-e2bd-16557dc80ca6"
      },
      "execution_count": null,
      "outputs": [
        {
          "output_type": "execute_result",
          "data": {
            "text/plain": [
              "array([1, 1, 1])"
            ]
          },
          "metadata": {},
          "execution_count": 52
        }
      ]
    },
    {
      "cell_type": "code",
      "source": [
        "#44. For the given array, apply custom function to calculate moving sum along rows.arr = np.array([[1, 2, 3], [4, 5, 6]])\n",
        "def moving_sum(arr):\n",
        "    return np.cumsum()\n",
        "arr = np.array([[1, 2, 3], [4, 5, 6]])\n",
        "moving_sum(arr)"
      ],
      "metadata": {
        "colab": {
          "base_uri": "https://localhost:8080/"
        },
        "id": "IrPFbwaFVD-6",
        "outputId": "d272ebb2-407a-4cbc-8803-14dc59830509"
      },
      "execution_count": null,
      "outputs": [
        {
          "output_type": "execute_result",
          "data": {
            "text/plain": [
              "array([[ 1,  3,  6],\n",
              "       [ 4,  9, 15]])"
            ]
          },
          "metadata": {},
          "execution_count": 53
        }
      ]
    },
    {
      "cell_type": "code",
      "source": [
        "#45.In the given array, check if all elements in each column are even.arr = np.array([[2, 4, 6], [3, 5, 7]])\n",
        "arr = np.array([[2, 4, 6], [3, 5, 7]])\n",
        "arr[arr%2==0]"
      ],
      "metadata": {
        "colab": {
          "base_uri": "https://localhost:8080/"
        },
        "id": "iFwFznvIV_DK",
        "outputId": "2892ec79-e4ff-478e-8977-9fc622d5c6ad"
      },
      "execution_count": null,
      "outputs": [
        {
          "output_type": "execute_result",
          "data": {
            "text/plain": [
              "array([2, 4, 6])"
            ]
          },
          "metadata": {},
          "execution_count": 56
        }
      ]
    },
    {
      "cell_type": "code",
      "source": [
        "#46.Given a NumPy array arr, reshape it into a matrix of dimensions `m` rows and `n` columns. Return the reshaped matrix.original_array = np.array([1, 2, 3, 4, 5, 6])\n",
        "original_array = np.array([1, 2, 3, 4, 5, 6])\n",
        "m=int(input(\"Enter m-\"))\n",
        "n=int(input(\"Enter n-\"))\n",
        "original_array.reshape(m,n)"
      ],
      "metadata": {
        "id": "Xov3B9qXWXGD",
        "colab": {
          "base_uri": "https://localhost:8080/"
        },
        "outputId": "6225adb4-eb56-4590-9507-1a6bfcb7d90a"
      },
      "execution_count": null,
      "outputs": [
        {
          "name": "stdout",
          "output_type": "stream",
          "text": [
            "Enter m-2\n",
            "Enter n-3\n"
          ]
        },
        {
          "output_type": "execute_result",
          "data": {
            "text/plain": [
              "array([[1, 2, 3],\n",
              "       [4, 5, 6]])"
            ]
          },
          "metadata": {},
          "execution_count": 3
        }
      ]
    },
    {
      "cell_type": "code",
      "source": [
        "#47.Create a function that takes a matrix as input and returns the flattened array.\n",
        "def function(mat):\n",
        "  a=mat.flatten()\n",
        "  print(a)\n",
        "arr=np.random.random_sample((3,3))\n",
        "mat=np.matrix(arr)\n",
        "function(mat)"
      ],
      "metadata": {
        "colab": {
          "base_uri": "https://localhost:8080/"
        },
        "id": "chWP-kbkuqkK",
        "outputId": "a16c6465-6bd8-4c56-bc16-04428faa3a5f"
      },
      "execution_count": null,
      "outputs": [
        {
          "output_type": "stream",
          "name": "stdout",
          "text": [
            "[[0.27655775 0.04313985 0.06558285 0.94301485 0.81403672 0.84143284\n",
            "  0.88038373 0.63531509 0.34895265]]\n"
          ]
        }
      ]
    },
    {
      "cell_type": "code",
      "source": [
        "#48.Write a function that concatenates two given arrays along a specified axis.array1 = np.array([[1, 2], [3, 4]]),array2 = np.array([[5, 6], [7, 8]])\n",
        "array1 = np.array([[1, 2], [3, 4]])\n",
        "array2 = np.array([[5, 6], [7, 8]])\n",
        "def func(array1,array2):\n",
        "  return np.concatenate((array1,array2),axis=0)\n",
        "func(array1,array2)"
      ],
      "metadata": {
        "colab": {
          "base_uri": "https://localhost:8080/"
        },
        "id": "L0-VINHqwqJt",
        "outputId": "1168a8dc-681b-4b96-916b-78ff581c7fed"
      },
      "execution_count": null,
      "outputs": [
        {
          "output_type": "execute_result",
          "data": {
            "text/plain": [
              "array([[1, 2],\n",
              "       [3, 4],\n",
              "       [5, 6],\n",
              "       [7, 8]])"
            ]
          },
          "metadata": {},
          "execution_count": 12
        }
      ]
    },
    {
      "cell_type": "code",
      "source": [
        "#49.Create a function that splits an array into multiple sub-arrays along a specified axis.original_array = np.array([[1, 2, 3], [4, 5, 6], [7, 8, 9]])\n",
        "original_array = np.array([[1, 2, 3], [4, 5, 6], [7, 8, 9]])\n",
        "def func(original_array):\n",
        "  return np.split(original_array,3)#splits into 3 sub arrays\n",
        "func(original_array)"
      ],
      "metadata": {
        "colab": {
          "base_uri": "https://localhost:8080/"
        },
        "id": "nra5HBCXw-Sp",
        "outputId": "d9878a9e-eae1-4665-9d7f-fe5018e6fbd6"
      },
      "execution_count": null,
      "outputs": [
        {
          "output_type": "execute_result",
          "data": {
            "text/plain": [
              "[array([[1, 2, 3]]), array([[4, 5, 6]]), array([[7, 8, 9]])]"
            ]
          },
          "metadata": {},
          "execution_count": 13
        }
      ]
    },
    {
      "cell_type": "code",
      "source": [
        "#50. Write a function that inserts and then deletes elements from a given array at specified indices.\n",
        "original_array = np.array([1, 2, 3, 4, 5])\n",
        "indices_to_insert = [2, 4]\n",
        "values_to_insert = [10, 11]\n",
        "indices_to_delete = [1, 3]\n",
        "np.insert(original_array,indices_to_insert,values_to_insert)"
      ],
      "metadata": {
        "colab": {
          "base_uri": "https://localhost:8080/"
        },
        "id": "hJf7OHw2xXKX",
        "outputId": "aa8a7073-4570-4de2-811a-61a9f61c2da1"
      },
      "execution_count": null,
      "outputs": [
        {
          "output_type": "execute_result",
          "data": {
            "text/plain": [
              "array([ 1,  2, 10,  3,  4, 11,  5])"
            ]
          },
          "metadata": {},
          "execution_count": 19
        }
      ]
    },
    {
      "cell_type": "code",
      "source": [
        "np.delete(original_array,indices_to_delete)"
      ],
      "metadata": {
        "colab": {
          "base_uri": "https://localhost:8080/"
        },
        "id": "Kv1z8uCfyF2u",
        "outputId": "da9bb0c0-999b-4827-96fd-c82083f36cf9"
      },
      "execution_count": null,
      "outputs": [
        {
          "output_type": "execute_result",
          "data": {
            "text/plain": [
              "array([1, 3, 5])"
            ]
          },
          "metadata": {},
          "execution_count": 16
        }
      ]
    },
    {
      "cell_type": "code",
      "source": [
        "#51.Create a NumPy array `arr1` with random integers and another array `arr2` with integers from 1 to 10.Perform element-wise addition between `arr1` and `arr2`.\n",
        "arr1=np.random.randint(1,100,size=None)\n",
        "arr2=np.arange(1,11)\n",
        "arr1+arr2"
      ],
      "metadata": {
        "colab": {
          "base_uri": "https://localhost:8080/"
        },
        "id": "Qj7ZvGaSv8jT",
        "outputId": "548fdac6-eac3-4f6f-9de2-5e4f82d999b9"
      },
      "execution_count": null,
      "outputs": [
        {
          "output_type": "execute_result",
          "data": {
            "text/plain": [
              "array([27, 28, 29, 30, 31, 32, 33, 34, 35, 36])"
            ]
          },
          "metadata": {},
          "execution_count": 8
        }
      ]
    },
    {
      "cell_type": "code",
      "source": [
        "#52.Generate a NumPy array `arr1` with sequential integers from 10 to 1 and another array `arr2` with integers from 1 to 10. Subtract `arr2` from `arr1` element-wise.\n",
        "arr1=np.arange(10,0,-1)\n",
        "arr2=np.arange(1,11)\n",
        "arr1-arr2"
      ],
      "metadata": {
        "colab": {
          "base_uri": "https://localhost:8080/"
        },
        "id": "l1QfuRgVwxsE",
        "outputId": "9f6e631e-26c2-406c-d660-ba107dc874af"
      },
      "execution_count": null,
      "outputs": [
        {
          "output_type": "execute_result",
          "data": {
            "text/plain": [
              "array([ 9,  7,  5,  3,  1, -1, -3, -5, -7, -9])"
            ]
          },
          "metadata": {},
          "execution_count": 9
        }
      ]
    },
    {
      "cell_type": "code",
      "source": [
        "#53. Create a NumPy array `arr1` with random integers and another array `arr2` with integers from 1 to 5.Perform element-wise multiplication between `arr1` and `arr2`.\n",
        "import numpy as np\n",
        "arr1=np.random.randint(1,100,size=None)\n",
        "arr2=np.arange(1,6)\n",
        "arr1*arr2"
      ],
      "metadata": {
        "colab": {
          "base_uri": "https://localhost:8080/"
        },
        "id": "D1s72Bh8jkQD",
        "outputId": "dfe78310-c6b5-41ad-867d-332ef017abad"
      },
      "execution_count": null,
      "outputs": [
        {
          "output_type": "execute_result",
          "data": {
            "text/plain": [
              "array([ 8, 16, 24, 32, 40])"
            ]
          },
          "metadata": {},
          "execution_count": 2
        }
      ]
    },
    {
      "cell_type": "code",
      "source": [
        "#54. Generate a NumPy array `arr1` with even integers from 2 to 10 and another array `arr2` with integers from 1 to 5. Perform element-wise division of `arr1` by `arr2`.\n",
        "arr1=np.arange(2,11,2)\n",
        "arr2=np.arange(1,6)\n",
        "arr1/arr2"
      ],
      "metadata": {
        "colab": {
          "base_uri": "https://localhost:8080/"
        },
        "id": "W4OKl5Qmj0to",
        "outputId": "e25d37eb-7449-4480-f085-2870eebd68e5"
      },
      "execution_count": null,
      "outputs": [
        {
          "output_type": "execute_result",
          "data": {
            "text/plain": [
              "array([2., 2., 2., 2., 2.])"
            ]
          },
          "metadata": {},
          "execution_count": 3
        }
      ]
    },
    {
      "cell_type": "code",
      "source": [
        "#55. Create a NumPy array `arr1` with integers from 1 to 5 and another array `arr2` with the same numbers reversed. Calculate the exponentiation of `arr1` raised to the power of `arr2` element-wise.\n",
        "arr1=np.arange(1,6)\n",
        "arr2=np.arange(5,-0,-1)\n",
        "arr1**arr2"
      ],
      "metadata": {
        "colab": {
          "base_uri": "https://localhost:8080/"
        },
        "id": "xG0r1TKqkBer",
        "outputId": "562f9a64-1412-42d1-ba39-868f781c0664"
      },
      "execution_count": null,
      "outputs": [
        {
          "output_type": "execute_result",
          "data": {
            "text/plain": [
              "array([ 1, 16, 27, 16,  5])"
            ]
          },
          "metadata": {},
          "execution_count": 23
        }
      ]
    },
    {
      "cell_type": "code",
      "source": [
        "#56.Write a function that counts the occurrences of a specific substring within a NumPy array of strings.arr = np.array(['hello', 'world', 'hello', 'numpy', 'hello'])\n",
        "def count(arr,substring):\n",
        "  count=0\n",
        "  for i in arr:\n",
        "    if substring in i:\n",
        "      count+=1\n",
        "  return count\n",
        "arr = np.array(['hello', 'world', 'hello', 'numpy', 'hello'])\n",
        "substring=\"hello\"\n",
        "count(arr,substring)"
      ],
      "metadata": {
        "colab": {
          "base_uri": "https://localhost:8080/"
        },
        "id": "dYI0OsuMl6-E",
        "outputId": "b8b58e48-55f1-4de5-a83e-affc0b2c2ee5"
      },
      "execution_count": null,
      "outputs": [
        {
          "output_type": "execute_result",
          "data": {
            "text/plain": [
              "3"
            ]
          },
          "metadata": {},
          "execution_count": 25
        }
      ]
    },
    {
      "cell_type": "code",
      "source": [
        "#57.Write a function that extracts uppercase characters from a NumPy array of strings.arr = np.array(['Hello', 'World', 'OpenAI', 'GPT'])\n",
        "def func(arr):\n",
        "  for i in arr:\n",
        "    for j in i:\n",
        "      if j.isupper():\n",
        "        print(j,end=\" \")\n",
        "arr = np.array(['Hello', 'World', 'OpenAI', 'GPT'])\n",
        "func(arr)"
      ],
      "metadata": {
        "id": "4eVHTU1umYda",
        "colab": {
          "base_uri": "https://localhost:8080/"
        },
        "outputId": "f8ef76ae-23ae-44d1-f283-2e977d345967"
      },
      "execution_count": null,
      "outputs": [
        {
          "output_type": "stream",
          "name": "stdout",
          "text": [
            "H W O A I G P T "
          ]
        }
      ]
    },
    {
      "cell_type": "code",
      "source": [
        "#58. Write a function that replaces occurrences of a substring in a NumPy array of strings with a new string.arr = np.array(['apple', 'banana', 'grape', 'pineapple'])\n",
        "def replace_substring(arr, old_substr, new_substr):\n",
        "    return np.char.replace(arr, old_substr, new_substr)\n",
        "arr = np.array(['apple', 'banana', 'grape', 'pineapple'])\n",
        "old_substr = 'apple'\n",
        "new_substr = 'orange'\n",
        "result = replace_substring(arr, old_substr, new_substr)\n",
        "print(result)"
      ],
      "metadata": {
        "colab": {
          "base_uri": "https://localhost:8080/"
        },
        "id": "gWGz1-WHht-D",
        "outputId": "69c8a069-d47f-4a5c-9663-148d0031ebff"
      },
      "execution_count": null,
      "outputs": [
        {
          "output_type": "stream",
          "name": "stdout",
          "text": [
            "['orange' 'banana' 'grape' 'pineorange']\n"
          ]
        }
      ]
    },
    {
      "cell_type": "code",
      "source": [
        "#59. Write a function that concatenates strings in a NumPy array element-wise.arr1 = np.array(['Hello', 'World']),arr2 = np.array(['Open', 'AI'])\n",
        "arr1 = np.array(['Hello', 'World'])\n",
        "arr2 = np.array(['Open', 'AI'])\n",
        "def func(arr1,arr2):\n",
        "  return np.char.add(arr1,arr2)\n",
        "func(arr1,arr2)"
      ],
      "metadata": {
        "colab": {
          "base_uri": "https://localhost:8080/"
        },
        "id": "aeFZfEfxmfoX",
        "outputId": "b48b1edf-ad4c-470f-a612-2e5359132355"
      },
      "execution_count": null,
      "outputs": [
        {
          "output_type": "execute_result",
          "data": {
            "text/plain": [
              "array(['HelloOpen', 'WorldAI'], dtype='<U9')"
            ]
          },
          "metadata": {},
          "execution_count": 15
        }
      ]
    },
    {
      "cell_type": "code",
      "source": [
        "#60. Write a function that finds the length of the longest string in a NumPy array.arr = np.array(['apple', 'banana', 'grape', 'pineapple'])\n",
        "arr = np.array(['apple', 'banana', 'grape', 'pineapple'])\n",
        "def func(arr):\n",
        "  max=\"\"\n",
        "  for i in arr:\n",
        "    if len(i)>len(max):\n",
        "      max=i\n",
        "  return max\n",
        "func(arr)"
      ],
      "metadata": {
        "colab": {
          "base_uri": "https://localhost:8080/",
          "height": 36
        },
        "id": "0rnLT04Im0VK",
        "outputId": "9a3a4585-9fb6-4d61-8de3-92a04fc0825a"
      },
      "execution_count": null,
      "outputs": [
        {
          "output_type": "execute_result",
          "data": {
            "text/plain": [
              "'pineapple'"
            ],
            "application/vnd.google.colaboratory.intrinsic+json": {
              "type": "string"
            }
          },
          "metadata": {},
          "execution_count": 81
        }
      ]
    },
    {
      "cell_type": "code",
      "source": [
        "#61.Create a dataset of 100 random integers between 1 and 1000. Compute the mean, median, variance, and standard deviation of the dataset using NumPy's functions.\n",
        "arr=np.random.randint(1,1000,size=100)\n",
        "print(\"mean=\",np.mean(arr))\n",
        "print(\"median=\",np.median(arr))\n",
        "print(\"variance=\",np.var(arr))\n",
        "print(\"variance=\",np.std(arr))"
      ],
      "metadata": {
        "colab": {
          "base_uri": "https://localhost:8080/"
        },
        "id": "Q4_XyX-YKz1I",
        "outputId": "494c7a7d-b185-4851-e8c7-0ebf32c52956"
      },
      "execution_count": null,
      "outputs": [
        {
          "output_type": "stream",
          "name": "stdout",
          "text": [
            "mean= 484.62\n",
            "median= 457.0\n",
            "variance= 89851.85559999998\n",
            "variance= 299.75299097757136\n"
          ]
        }
      ]
    },
    {
      "cell_type": "code",
      "source": [
        "#62. Generate an array of 50 random numbers between 1 and 100. Find the 25th and 75th percentiles of the dataset.\n",
        "arr=np.random.randint(1,100,size=50)\n",
        "print(\"25th percentile=\",np.percentile(arr,25))\n",
        "print(\"75th percentile=\",np.percentile(arr,75))"
      ],
      "metadata": {
        "colab": {
          "base_uri": "https://localhost:8080/"
        },
        "id": "UDwL8_p9MjBj",
        "outputId": "63af4534-61f6-494c-a2a8-58ecbb8900f0"
      },
      "execution_count": null,
      "outputs": [
        {
          "output_type": "stream",
          "name": "stdout",
          "text": [
            "25th percentile= 33.5\n",
            "75th percentile= 80.5\n"
          ]
        }
      ]
    },
    {
      "cell_type": "code",
      "source": [
        "#63.Create two arrays representing two sets of variables. Compute the correlation coefficient between these arrays using NumPy's `corrcoef` function.\n",
        "arr1=np.random.randint(1,100,size=100)\n",
        "arr2=np.random.randint(1,100,size=100)\n",
        "np.corrcoef(arr1,arr2)"
      ],
      "metadata": {
        "colab": {
          "base_uri": "https://localhost:8080/"
        },
        "id": "ltvZqgMyMvgS",
        "outputId": "15d6b1a5-45a9-465d-d0af-50234feb6aa3"
      },
      "execution_count": null,
      "outputs": [
        {
          "output_type": "execute_result",
          "data": {
            "text/plain": [
              "array([[1.        , 0.17355972],\n",
              "       [0.17355972, 1.        ]])"
            ]
          },
          "metadata": {},
          "execution_count": 9
        }
      ]
    },
    {
      "cell_type": "code",
      "source": [
        "#64. Create two matrices and perform matrix multiplication using NumPy's `dot` function.\n",
        "arr1=np.random.randint(1,100,size=(1,3))\n",
        "arr2=np.random.randint(1,100,size=(3,3))\n",
        "mat1=np.matrix(arr1)\n",
        "mat2=np.matrix(arr2)\n",
        "np.dot(mat1,mat2)"
      ],
      "metadata": {
        "colab": {
          "base_uri": "https://localhost:8080/"
        },
        "id": "mZ45IbJMNBQe",
        "outputId": "92d5e46b-87b6-46dc-ce85-9689de1afb2a"
      },
      "execution_count": null,
      "outputs": [
        {
          "output_type": "execute_result",
          "data": {
            "text/plain": [
              "matrix([[6324, 8273, 3191]])"
            ]
          },
          "metadata": {},
          "execution_count": 12
        }
      ]
    },
    {
      "cell_type": "code",
      "source": [
        "#65. Create an array of 50 integers between 10 and 1000. Calculate the 10th, 50th (median), and 90th percentiles along with the first and third quartiles.\n",
        "arr=np.random.randint(10,1000,size=50)\n",
        "print(\"10th percentile=\",np.percentile(arr,10))\n",
        "print(\"50th percentile=\",np.percentile(arr,50))"
      ],
      "metadata": {
        "colab": {
          "base_uri": "https://localhost:8080/"
        },
        "id": "n0LTcgMMaTlJ",
        "outputId": "b98e918d-35d6-4e42-e2f6-59162546e2ed"
      },
      "execution_count": null,
      "outputs": [
        {
          "output_type": "stream",
          "name": "stdout",
          "text": [
            "10th percentile= 88.9\n",
            "50th percentile= 619.5\n"
          ]
        }
      ]
    },
    {
      "cell_type": "code",
      "source": [
        "#66. Create a NumPy array of integers and find the index of a specific element.\n",
        "arr=np.arange(1,11)\n",
        "arr[3]"
      ],
      "metadata": {
        "colab": {
          "base_uri": "https://localhost:8080/"
        },
        "id": "AhjfolT4afEo",
        "outputId": "138dbcd9-4a3b-44a5-cc3f-b0e70281a83a"
      },
      "execution_count": null,
      "outputs": [
        {
          "output_type": "execute_result",
          "data": {
            "text/plain": [
              "4"
            ]
          },
          "metadata": {},
          "execution_count": 15
        }
      ]
    },
    {
      "cell_type": "code",
      "source": [
        "#67. Generate a random NumPy array and sort it in ascending order.\n",
        "arr=np.random.randint(1,100,size=10)\n",
        "arr.sort()\n",
        "arr"
      ],
      "metadata": {
        "colab": {
          "base_uri": "https://localhost:8080/"
        },
        "id": "g-QEal5Ra2AS",
        "outputId": "34ddf823-a1ce-4b1b-f4cc-b2f92d8db655"
      },
      "execution_count": null,
      "outputs": [
        {
          "output_type": "execute_result",
          "data": {
            "text/plain": [
              "array([22, 32, 38, 39, 55, 69, 70, 80, 80, 89])"
            ]
          },
          "metadata": {},
          "execution_count": 16
        }
      ]
    },
    {
      "cell_type": "code",
      "source": [
        "#68.Filter elements >20  in the given NumPy array.arr = np.array([12, 25, 6, 42, 8, 30])\n",
        "arr = np.array([12, 25, 6, 42, 8, 30])\n",
        "list(filter(lambda x:x if x>20 else None,arr))"
      ],
      "metadata": {
        "colab": {
          "base_uri": "https://localhost:8080/"
        },
        "id": "6CwivOOYbFld",
        "outputId": "a9c1ecf7-e4a9-4d5f-9b84-e56152a38fe1"
      },
      "execution_count": null,
      "outputs": [
        {
          "output_type": "execute_result",
          "data": {
            "text/plain": [
              "[25, 42, 30]"
            ]
          },
          "metadata": {},
          "execution_count": 23
        }
      ]
    },
    {
      "cell_type": "code",
      "source": [
        "#69. Filter elements which are divisible by 3 from a given NumPy array.arr = np.array([1, 5, 8, 12, 15])\n",
        "arr = np.array([1, 5, 8, 12, 15])\n",
        "list(filter(lambda x:x if x%3==0 else None,arr))"
      ],
      "metadata": {
        "colab": {
          "base_uri": "https://localhost:8080/"
        },
        "id": "UG8T0d_NbqQ3",
        "outputId": "6dcc1f4f-8d34-499f-cd77-d4afe9d67f9b"
      },
      "execution_count": null,
      "outputs": [
        {
          "output_type": "execute_result",
          "data": {
            "text/plain": [
              "[12, 15]"
            ]
          },
          "metadata": {},
          "execution_count": 27
        }
      ]
    },
    {
      "cell_type": "code",
      "source": [
        "#70.Filter elements which are ≥ 20 and ≤ 40 from a given NumPy array.arr = np.array([10, 20, 30, 40, 50])\n",
        "arr = np.array([10, 20, 30, 40, 50])\n",
        "list(filter(lambda x:x if x>=20 and x<=40 else None , arr))"
      ],
      "metadata": {
        "colab": {
          "base_uri": "https://localhost:8080/"
        },
        "id": "K2Bh2p8UcLt5",
        "outputId": "0fe66c91-1cb9-4297-de1c-1296c707de4a"
      },
      "execution_count": null,
      "outputs": [
        {
          "output_type": "execute_result",
          "data": {
            "text/plain": [
              "[20, 30, 40]"
            ]
          },
          "metadata": {},
          "execution_count": 28
        }
      ]
    },
    {
      "cell_type": "code",
      "source": [
        "#71.For the given NumPy array, check its byte order using the `dtype` attribute byteorder.arr = np.array([1, 2, 3])\n",
        "arr = np.array([1, 2, 3])\n",
        "arr.dtype.byteorder# = means native byte order"
      ],
      "metadata": {
        "colab": {
          "base_uri": "https://localhost:8080/",
          "height": 36
        },
        "id": "sn94oxfmcq6J",
        "outputId": "47731450-c237-4bac-f8dd-9ed0d07a0b97"
      },
      "execution_count": null,
      "outputs": [
        {
          "output_type": "execute_result",
          "data": {
            "text/plain": [
              "'='"
            ],
            "application/vnd.google.colaboratory.intrinsic+json": {
              "type": "string"
            }
          },
          "metadata": {},
          "execution_count": 32
        }
      ]
    },
    {
      "cell_type": "code",
      "source": [
        "#72.For the given NumPy array, perform byte swapping in place using `byteswap()`.arr = np.array([1, 2, 3], dtype=np.int32)\n",
        "arr = np.array([1, 2, 3], dtype=np.int32)\n",
        "arr.byteswap()"
      ],
      "metadata": {
        "colab": {
          "base_uri": "https://localhost:8080/"
        },
        "id": "wWpL-o_Ge4d4",
        "outputId": "9cde93a1-83c7-4d70-e2ad-bf5c87a9608d"
      },
      "execution_count": null,
      "outputs": [
        {
          "output_type": "execute_result",
          "data": {
            "text/plain": [
              "array([16777216, 33554432, 50331648], dtype=int32)"
            ]
          },
          "metadata": {},
          "execution_count": 33
        }
      ]
    },
    {
      "cell_type": "code",
      "source": [
        "#73. For the given NumPy array, swap its byte order without modifying the original array using `newbyteorder()`.arr = np.array([1, 2, 3], dtype=np.int32)\n",
        "arr = np.array([1, 2, 3], dtype=np.int32)\n",
        "arr.newbyteorder()"
      ],
      "metadata": {
        "colab": {
          "base_uri": "https://localhost:8080/"
        },
        "id": "Yk-0qO7QfZKV",
        "outputId": "02b09db5-3855-4ec0-f05a-82ca9ef0ef55"
      },
      "execution_count": null,
      "outputs": [
        {
          "output_type": "execute_result",
          "data": {
            "text/plain": [
              "array([16777216, 33554432, 50331648], dtype='>i4')"
            ]
          },
          "metadata": {},
          "execution_count": 34
        }
      ]
    },
    {
      "cell_type": "code",
      "source": [
        "#74.For the given NumPy array and swap its byte order conditionally based on system endianness using `newbyteorder()`.arr = np.array([1, 2, 3], dtype=np.int32)\n",
        "native_order = '='\n",
        "if arr.dtype.byteorder != native_byte_order:\n",
        "    arr = arr.newbyteorder()\n",
        "arr.dtype.byteorder"
      ],
      "metadata": {
        "colab": {
          "base_uri": "https://localhost:8080/",
          "height": 36
        },
        "id": "l66YSdJYf4QA",
        "outputId": "01300dc7-bc2c-41f9-823b-159d662eae6e"
      },
      "execution_count": null,
      "outputs": [
        {
          "output_type": "execute_result",
          "data": {
            "text/plain": [
              "'='"
            ],
            "application/vnd.google.colaboratory.intrinsic+json": {
              "type": "string"
            }
          },
          "metadata": {},
          "execution_count": 36
        }
      ]
    },
    {
      "cell_type": "code",
      "source": [
        "#75. For the given NumPy array, check if byte swapping is necessary for the current system using `dtype` attribute `byteorder`.\n",
        "arr = np.array([1, 2, 3], dtype=np.int32)\n",
        "native_byte_order = '='\n",
        "if arr.dtype.byteorder != native_byte_order:\n",
        "    print(\"Byte swapping is required.\")\n",
        "else:\n",
        "    print(\"Byte swapping is not required.\")"
      ],
      "metadata": {
        "colab": {
          "base_uri": "https://localhost:8080/"
        },
        "id": "8ms8MxGLhO7E",
        "outputId": "1497a0f1-c6e8-4ea3-df0c-beed1fbb152b"
      },
      "execution_count": null,
      "outputs": [
        {
          "output_type": "stream",
          "name": "stdout",
          "text": [
            "Byte swapping is not required.\n"
          ]
        }
      ]
    },
    {
      "cell_type": "code",
      "source": [
        "#76. Create a NumPy array `arr1` with values from 1 to 10. Create a copy of `arr1` named `copy_arr` and modify an element in `copy_arr`. Check if modifying `copy_arr` affects `arr1`.\n",
        "import numpy as np\n",
        "arr=np.arange(1,11)\n",
        "copy_arr=arr.view()#shallow copy\n",
        "arr[0]=100\n",
        "print(arr)\n",
        "print(copy_arr)"
      ],
      "metadata": {
        "colab": {
          "base_uri": "https://localhost:8080/"
        },
        "id": "eXHIhAtt3Hmz",
        "outputId": "4cd13467-00ea-450d-8cde-5625c10abaae"
      },
      "execution_count": null,
      "outputs": [
        {
          "output_type": "stream",
          "name": "stdout",
          "text": [
            "[100   2   3   4   5   6   7   8   9  10]\n",
            "[100   2   3   4   5   6   7   8   9  10]\n"
          ]
        }
      ]
    },
    {
      "cell_type": "code",
      "source": [
        "#77.Create a 2D NumPy array `matrix` of shape (3, 3) with random integers. Extract a slice `view_slice` from the matrix. Modify an element in `view_slice` and observe if it changes the original `matrix`.\n",
        "arr=np.random.randint(1,10,(3,3))\n",
        "view_slice=arr[0:2,0:2]\n",
        "view_slice[0,0]=100\n",
        "print(arr)\n",
        "print(view_slice)"
      ],
      "metadata": {
        "colab": {
          "base_uri": "https://localhost:8080/"
        },
        "id": "9pluJwwE54jG",
        "outputId": "c629be85-db6a-48b6-ba9b-8f842043d5db"
      },
      "execution_count": null,
      "outputs": [
        {
          "output_type": "stream",
          "name": "stdout",
          "text": [
            "[[100   1   8]\n",
            " [  1   9   5]\n",
            " [  1   6   2]]\n",
            "[[100   1]\n",
            " [  1   9]]\n"
          ]
        }
      ]
    },
    {
      "cell_type": "code",
      "source": [
        "#78.Create a NumPy array `array_a` of shape (4, 3) with sequential integers from 1 to 12. Extract a slice `view_b` from `array_a` and broadcast the addition of 5 to view_b. Check if it alters the original `array_a`.\n",
        "array_a=np.arange(1,13).reshape(4,3)\n",
        "view_b=array_a[0:2,0:2]\n",
        "view_b+=5\n",
        "print(array_a)\n",
        "print(view_b)"
      ],
      "metadata": {
        "colab": {
          "base_uri": "https://localhost:8080/"
        },
        "id": "auFL8UNR6V_x",
        "outputId": "5e9686ce-3952-48f7-e210-ff04ae3dd4f7"
      },
      "execution_count": null,
      "outputs": [
        {
          "output_type": "stream",
          "name": "stdout",
          "text": [
            "[[ 6  7  3]\n",
            " [ 9 10  6]\n",
            " [ 7  8  9]\n",
            " [10 11 12]]\n",
            "[[ 6  7]\n",
            " [ 9 10]]\n"
          ]
        }
      ]
    },
    {
      "cell_type": "code",
      "source": [
        "#79. Create a NumPy array `orig_array` of shape (2, 4) with values from 1 to 8. Create a reshaped view `reshaped_view` of shape (4, 2) from orig_array. Modify an element in `reshaped_view` and check if it reflects changes in the original `orig_array`.\n",
        "orig_array=np.arange(1,9).reshape(2,4)\n",
        "reshaped_view=orig_array.reshape(4,2)\n",
        "reshaped_view[0,0]=100\n",
        "print(orig_array)#it changes"
      ],
      "metadata": {
        "colab": {
          "base_uri": "https://localhost:8080/"
        },
        "id": "HW_WhAoB6sjm",
        "outputId": "813e518c-1865-434c-afae-d60bd7d51bd6"
      },
      "execution_count": null,
      "outputs": [
        {
          "output_type": "stream",
          "name": "stdout",
          "text": [
            "[[100   2   3   4]\n",
            " [  5   6   7   8]]\n"
          ]
        }
      ]
    },
    {
      "cell_type": "code",
      "source": [
        "#80.Create a NumPy array `data` of shape (3, 4) with random integers. Extract a copy `data_copy` of elements greater than 5. Modify an element in `data_copy` and verify if it affects the original `data`.\n",
        "arr=np.random.randint(1,20,(3,4))\n",
        "import copy\n",
        "data_copy=arr[arr>5].copy()#deep copy\n",
        "data_copy[0]=100\n",
        "print(arr)\n",
        "print(data_copy)"
      ],
      "metadata": {
        "colab": {
          "base_uri": "https://localhost:8080/"
        },
        "id": "zapfF6LW7EN4",
        "outputId": "a203a545-9c66-4d3a-9855-7e2e5452e555"
      },
      "execution_count": null,
      "outputs": [
        {
          "output_type": "stream",
          "name": "stdout",
          "text": [
            "[[ 9 15  7  7]\n",
            " [ 9  4 18 14]\n",
            " [ 2 16 15  8]]\n",
            "[100  15   7   7   9  18  14  16  15   8]\n"
          ]
        }
      ]
    },
    {
      "cell_type": "code",
      "source": [
        "#81. Create two matrices A and B of identical shape containing integers and perform addition and subtraction operations between them.\n",
        "arr1=np.random.randint(1,10,(3,3))\n",
        "a=np.matrix(arr1)\n",
        "arr2=np.random.randint(1,10,(3,3))\n",
        "b=np.matrix(arr2)\n",
        "print(\"addition is-\\n\",a+b)\n",
        "print(\"substraction is-\\n\",a-b)"
      ],
      "metadata": {
        "colab": {
          "base_uri": "https://localhost:8080/"
        },
        "id": "po6ri25u8aWv",
        "outputId": "ac5a5c83-98d9-4f6e-b59f-5b9ae7b17ece"
      },
      "execution_count": null,
      "outputs": [
        {
          "output_type": "stream",
          "name": "stdout",
          "text": [
            "addition is-\n",
            " [[ 5  6 11]\n",
            " [ 8  4  3]\n",
            " [ 4 17 16]]\n",
            "substraction is-\n",
            " [[ 1  4 -5]\n",
            " [ 0  0  1]\n",
            " [-2 -1  2]]\n"
          ]
        }
      ]
    },
    {
      "cell_type": "code",
      "source": [
        "#82. Generate two matrices `C` (3x2) and `D` (2x4) and perform matrix multiplication.\n",
        "C=np.random.randint(1,10,(3,2))\n",
        "D=np.random.randint(1,10,(2,4))\n",
        "np.matmul(C,D)"
      ],
      "metadata": {
        "colab": {
          "base_uri": "https://localhost:8080/"
        },
        "id": "5AtnhaoC9BCm",
        "outputId": "c380c894-934c-40c9-a99a-513c723444ca"
      },
      "execution_count": null,
      "outputs": [
        {
          "output_type": "execute_result",
          "data": {
            "text/plain": [
              "array([[ 41,  87, 117, 128],\n",
              "       [ 28,  46,  74,  74],\n",
              "       [ 15,  55,  53,  70]])"
            ]
          },
          "metadata": {},
          "execution_count": 59
        }
      ]
    },
    {
      "cell_type": "code",
      "source": [
        "#83.Create a matrix `E` and find its transpose.\n",
        "E=np.random.randint(1,10,(3,3))\n",
        "E.transpose()"
      ],
      "metadata": {
        "colab": {
          "base_uri": "https://localhost:8080/"
        },
        "id": "2Mckljch9XpF",
        "outputId": "cb81a85e-0495-4e03-fe38-d40d1a21e203"
      },
      "execution_count": null,
      "outputs": [
        {
          "output_type": "execute_result",
          "data": {
            "text/plain": [
              "array([[7, 4, 7],\n",
              "       [1, 5, 9],\n",
              "       [3, 6, 3]])"
            ]
          },
          "metadata": {},
          "execution_count": 62
        }
      ]
    },
    {
      "cell_type": "code",
      "source": [
        "#84.Generate a square matrix `F` and compute its determinant.\n",
        "F=np.random.randint(1,10,(3,3))\n",
        "np.linalg.det(F)"
      ],
      "metadata": {
        "colab": {
          "base_uri": "https://localhost:8080/"
        },
        "id": "XLSOPBSK9h6F",
        "outputId": "819d0643-5c56-4ecd-9407-8e5a385d10f2"
      },
      "execution_count": null,
      "outputs": [
        {
          "output_type": "execute_result",
          "data": {
            "text/plain": [
              "47.999999999999986"
            ]
          },
          "metadata": {},
          "execution_count": 63
        }
      ]
    },
    {
      "cell_type": "code",
      "source": [
        "#85.Create a square matrix `G` and find its inverse.\n",
        "G=np.random.randint(1,10,(3,3))\n",
        "np.linalg.inv(G)"
      ],
      "metadata": {
        "colab": {
          "base_uri": "https://localhost:8080/"
        },
        "id": "ArbSljVc9xdU",
        "outputId": "201e4bec-e099-404f-b29b-ceec1da2d096"
      },
      "execution_count": null,
      "outputs": [
        {
          "output_type": "execute_result",
          "data": {
            "text/plain": [
              "array([[ 1.00000000e+00, -1.00000000e+00, -2.77555756e-17],\n",
              "       [-1.00000000e+00,  1.17500000e+00, -2.25000000e-01],\n",
              "       [-1.21430643e-18, -2.50000000e-02,  1.75000000e-01]])"
            ]
          },
          "metadata": {},
          "execution_count": 64
        }
      ]
    }
  ]
}