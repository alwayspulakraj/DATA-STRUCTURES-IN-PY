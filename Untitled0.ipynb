{
  "nbformat": 4,
  "nbformat_minor": 0,
  "metadata": {
    "colab": {
      "provenance": [],
      "authorship_tag": "ABX9TyPjkB2KlxgLYB+TJaNHnyFn",
      "include_colab_link": true
    },
    "kernelspec": {
      "name": "python3",
      "display_name": "Python 3"
    },
    "language_info": {
      "name": "python"
    }
  },
  "cells": [
    {
      "cell_type": "markdown",
      "metadata": {
        "id": "view-in-github",
        "colab_type": "text"
      },
      "source": [
        "<a href=\"https://colab.research.google.com/github/alwayspulakraj/DATA-STRUCTURES-IN-PY/blob/ASSIGNMENT-1-PW-SKILLS/Untitled0.ipynb\" target=\"_parent\"><img src=\"https://colab.research.google.com/assets/colab-badge.svg\" alt=\"Open In Colab\"/></a>"
      ]
    },
    {
      "cell_type": "code",
      "execution_count": null,
      "metadata": {
        "id": "arWQdW2-f8JM"
      },
      "outputs": [],
      "source": [
        "#1.write a code to reverse a string.\n",
        "string=input(\"enter a string to reverse\")\n",
        "for i in range(len(string)):\n",
        "  print(string[-1::-1])\n",
        "#successfully reversed a string"
      ]
    },
    {
      "cell_type": "code",
      "source": [
        "#2.write a code to count the number of vowels in a string.\n",
        "string=input(\"enter a string to count the number of vowels\")\n",
        "count=0\n",
        "x=['a','e','i','o','u','A','E','I','O','U']\n",
        "for i in string:\n",
        "  if i in x:\n",
        "    count+=1\n",
        "print(\"the number of vowels in the inputted string is-\",count)\n",
        "#successfully counted"
      ],
      "metadata": {
        "id": "TXNNsBL7jPRD"
      },
      "execution_count": null,
      "outputs": []
    },
    {
      "cell_type": "code",
      "source": [
        "#3.write a code to check if a given string is palindrome or not.\n",
        "string=input(\"enter a string to check if it is a palindrome\")\n",
        "x=string\n",
        "for i in range(len(string)):\n",
        "  y=string[-1::-1]\n",
        "if x==y:\n",
        "  print(\"inputted string is palindrome\")\n",
        "else:\n",
        "  print(\"it is not palindrome\")\n",
        "#checked success"
      ],
      "metadata": {
        "id": "DD3WHKCvmwTd"
      },
      "execution_count": null,
      "outputs": []
    },
    {
      "cell_type": "code",
      "source": [
        "#4.write a code to check if two given strings are anagrams of each other.\n",
        "str1=input(\"enter first string\")\n",
        "str2=input(\"enter second string\")\n",
        "if len(str1)!=len(str2):\n",
        "  print(\"not anagrams\")\n",
        "else:\n",
        "  if sorted(str1)==sorted(str2):\n",
        "    print(\"both strings are anagrams\")\n",
        "  else:\n",
        "    print(\"not anagrams\")\n",
        "#anagrams are having equal length and same characters but order can be different"
      ],
      "metadata": {
        "id": "AzjGrGavn9cU"
      },
      "execution_count": null,
      "outputs": []
    },
    {
      "cell_type": "code",
      "source": [
        "#5.write a code to find all occurances of a given substring within another string.\n",
        "string=input(\"enter some lines\")\n",
        "x=string.split()\n",
        "substr=input(\"enter the word to search in the inputted lines-\")\n",
        "for i in range(len(x)):\n",
        "  pos=i+1\n",
        "  if substr==x[i]:\n",
        "    print(\"position of the word-\",pos)\n",
        "#successfully displayed"
      ],
      "metadata": {
        "id": "ilip4i4-rLhu"
      },
      "execution_count": null,
      "outputs": []
    },
    {
      "cell_type": "code",
      "source": [
        "#6.write a code to perform basic string compression using the counts of repeated characters.\n",
        "count = 1\n",
        "s='aaabbeeddssrrccaa'\n",
        "strz= \"\"\n",
        "i = 0\n",
        "while i < len(s) - 1:\n",
        "  if s[i] == s[i+1]:\n",
        "    count += 1\n",
        "  else:\n",
        "    strz+= s[i] + str(count)\n",
        "    count = 1\n",
        "  i += 1\n",
        "strz+=s[i]+str(count)\n",
        "print(strz)"
      ],
      "metadata": {
        "id": "5PTTgbaGynoB"
      },
      "execution_count": null,
      "outputs": []
    },
    {
      "cell_type": "code",
      "source": [
        "#7.write a code to determine if a string has all unique characters.\n",
        "st=input(\"enter a string to check-\")\n",
        "l=[]\n",
        "for i in st:\n",
        "  if i in l:\n",
        "    print(\"inputted string have duplicate characters\")\n",
        "    break\n",
        "  else:\n",
        "    l.append(i)#adds character to the list\n",
        "else:\n",
        "  print(\"unique\")"
      ],
      "metadata": {
        "id": "liGgAYjz_df_"
      },
      "execution_count": null,
      "outputs": []
    },
    {
      "cell_type": "code",
      "source": [
        "#8.Write a code to convert given string to uppercase or lowecase.\n",
        "st=input(\"enter any string to convert uppercase and lowercase\")\n",
        "x=st.upper()\n",
        "y=st.lower()\n",
        "print(\"uppercase-\",x)\n",
        "print(\"lowercase-\",y)\n"
      ],
      "metadata": {
        "id": "Eo2-OFf8WBZH"
      },
      "execution_count": null,
      "outputs": []
    },
    {
      "cell_type": "code",
      "source": [
        "#9.write a code to count the number of words in a string.\n",
        "st=input(\"enter a string to count the number of words-\")\n",
        "x=st.split()\n",
        "count=0\n",
        "for i in x:\n",
        "  count+=1\n",
        "print(\"number of words present is-\",count)"
      ],
      "metadata": {
        "id": "Kd9OE136W80L"
      },
      "execution_count": null,
      "outputs": []
    },
    {
      "cell_type": "code",
      "source": [
        "#10.write a code to concatenate two strings without using + operator.\n",
        "st1=input(\"enter first string\")\n",
        "st2=input(\"enter second string\")\n",
        "y=st2.split()\n",
        "x=st1.split()\n",
        "z=\"  \"\n",
        "x.extend(y)\n",
        "z.join(x)"
      ],
      "metadata": {
        "id": "D6xvgezWX9jP"
      },
      "execution_count": null,
      "outputs": []
    },
    {
      "cell_type": "code",
      "source": [
        "#11.write a code to remove all the occurances of a specific element from a list.\n",
        "def delete(l):#let the preexisting list be l\n",
        "   x=int(input(\"enter the element to delete-\"))\n",
        "   for i in range(len(l)):\n",
        "     if l[i]!=x:\n",
        "       l1.append(l[i])\n",
        "     else:\n",
        "        pass\n",
        "l1=[]\n",
        "delete(l)#considered a prexisting list named l inputted by user\n",
        "l.clear()\n",
        "l.extend(l1)\n",
        "print(l)"
      ],
      "metadata": {
        "id": "OZSt4ozVcxn4"
      },
      "execution_count": null,
      "outputs": []
    },
    {
      "cell_type": "code",
      "source": [
        "#12.write a code to find the second largest number in a given list of integers.\n",
        "l=[2,3,4,5,6,7]#considered the given list of integers\n",
        "max=0\n",
        "for i in l:\n",
        "  if i>max:\n",
        "    max=i#it will check and store the value of the largest integer\n",
        "l1=[]\n",
        "l1.extend(l)\n",
        "l1.remove(max)\n",
        "x=0\n",
        "for i in l1:\n",
        "  if i>x:\n",
        "    x=i\n",
        "print(\"the second largest number in the list is-\",x)"
      ],
      "metadata": {
        "id": "7SrJVsNGhEdy"
      },
      "execution_count": null,
      "outputs": []
    },
    {
      "cell_type": "code",
      "source": [
        "#13.create a code to count the occurances of each element in a list and return a dictionary with elements as keys and their counts as values.\n",
        "l=[1,2,2,4,1,2,5,3,6,6]#considered a list\n",
        "c=0\n",
        "d={}\n",
        "for i in range(len(l)):\n",
        "  if l[i] in l:\n",
        "    c=l.count(l[i])\n",
        "  d[l[i]]=c#it will store the values as key value pairs\n",
        "print(\"the dictionary is-\",d)"
      ],
      "metadata": {
        "id": "uZOJ3DnDfuCS"
      },
      "execution_count": null,
      "outputs": []
    },
    {
      "cell_type": "code",
      "source": [
        "#14.write a code to reverse a list in-place without using any build-in reverse function.\n",
        "inplace=[1,2,3,4,5,6,7]#considered a list to reverse\n",
        "print(inplace[-1::-1])#start value is -1 and step value is -1\n",
        "print(\"sucessfully reversed a list\")"
      ],
      "metadata": {
        "id": "G32yJ8nchYsY"
      },
      "execution_count": null,
      "outputs": []
    },
    {
      "cell_type": "code",
      "source": [
        "#15.implement a code to find and remove duplicates from a list while preserving the original order of elements.\n",
        "def delete(l):#considering a list which is inputted by user\n",
        "  for i in l:\n",
        "     if i not in x:\n",
        "       x.append(i)\n",
        "  print(\"the new list is-\",x)\n",
        "x=[]\n",
        "l=[1,2,3,3,4,5,2,5,5,3]#considered a list inputted by the user\n",
        "delete(l)"
      ],
      "metadata": {
        "id": "0pwbHlJKjXXq"
      },
      "execution_count": null,
      "outputs": []
    },
    {
      "cell_type": "code",
      "source": [
        "#16.create a code to check if a given list is sorted(either in ascending or descending order) or not.\n",
        "l=[3,2,1]#taking a lsit for example\n",
        "for i in range(len(l)-1):\n",
        "  if l[i]<l[i+1]:\n",
        "     print(\"list is in aescending\")\n",
        "     break\n",
        "else:\n",
        "  print(\"list is descending\")#gives that it is descending"
      ],
      "metadata": {
        "id": "eOmT8w3aRTty"
      },
      "execution_count": null,
      "outputs": []
    },
    {
      "cell_type": "code",
      "source": [
        "#17.write a code to merge two sorted list into a single sorted list.\n",
        "l1=[1,2,4,3]\n",
        "l2=[7,5,6,8,9]#taken two unsorted list as a example\n",
        "l1.sort()\n",
        "l2.sort()\n",
        "x=[]\n",
        "x=l1+l2\n",
        "print(x)"
      ],
      "metadata": {
        "id": "3QtdpbyteH2y"
      },
      "execution_count": null,
      "outputs": []
    },
    {
      "cell_type": "code",
      "source": [
        "#18.implement a code to find the intersection of two given list.\n",
        "l1=[1,2,3,4,5]\n",
        "l2=[4,5,6,7,8]#considered two list for example\n",
        "z=[]#the intersection of two list will be stroed here\n",
        "for i in l1:\n",
        "  if i in l2:\n",
        "    z.append(i)\n",
        "if z==[]:\n",
        "  print(\"given list have no intersection\")\n",
        "else:\n",
        "  print(\"the intersection of two list is-\",z)"
      ],
      "metadata": {
        "id": "IOj5gBCTf6eq"
      },
      "execution_count": null,
      "outputs": []
    },
    {
      "cell_type": "code",
      "source": [
        "#19.create a code to find the union of two list without duplicates.\n",
        "l1=[2,3,4,2,5,6,4,5,3,7]\n",
        "l2=[1,4,5,8,9,1,9,0]#let the two list for example\n",
        "z=[]#let the union of two list be z\n",
        "for i in l2:\n",
        "  if i not in z:\n",
        "    z.append(i)\n",
        "  else:\n",
        "     pass\n",
        "for i in l1:\n",
        "  if i not in z:\n",
        "    z.append(i)\n",
        "  else:\n",
        "    pass\n",
        "print(\"the union of two list without duplicates is-\",z)#will print the union of two list without duplicates"
      ],
      "metadata": {
        "id": "5gt5MDQX_sde"
      },
      "execution_count": null,
      "outputs": []
    },
    {
      "cell_type": "code",
      "source": [
        "#20.write a code to suffle a given list randomly without using any build-in suffle functions.\n",
        "import random\n",
        "def sl(l):\n",
        "    x=len(l)\n",
        "    for i in range(x):\n",
        "        j=random.randint(0, x-1)\n",
        "        if i!=j:\n",
        "          l[i],l[j] = l[j],l[i]\n",
        "    print(l)\n",
        "l=[1,2,3,4,5]\n",
        "sl(l)"
      ],
      "metadata": {
        "id": "_RwgJh8jBuQY"
      },
      "execution_count": null,
      "outputs": []
    },
    {
      "cell_type": "code",
      "source": [
        "#write a code that takes two tuples as input and returns a new tuple containing elements that are common to both input tuples.\n",
        "t1=[]\n",
        "x=int(input(\"enter the number of elements in tuple 1-\"))\n",
        "for i in range(x):\n",
        "    i=int(input(\"enter elements one by one-\"))\n",
        "    t1.append(i)\n",
        "t1=tuple(t1)#changes the list into tuple\n",
        "print(t1)\n",
        "t2=[]\n",
        "y=int(input(\"enter the number of elements in tuple 2-\"))\n",
        "for j in range(y):\n",
        "    j=int(input(\"enter elements one by one-\"))\n",
        "    t2.append(j)\n",
        "t2=tuple(t2)\n",
        "print(t2)\n",
        "t=[]\n",
        "for i in range(len(t1)):\n",
        "  if t1[i] in t2:#it will match the common elements and will append in the list and then convert into tuple and returns the value\n",
        "    t.append(t1[i])\n",
        "print(\"the new tuple with common element is-\",t)"
      ],
      "metadata": {
        "id": "oQB7smfgZcOr"
      },
      "execution_count": null,
      "outputs": []
    },
    {
      "cell_type": "code",
      "source": [
        "#22.create a code that prompts user to enter two sets of integers separated  by commas. Then , print the intersection of these two sets.\n",
        "set1 = set(input(\"Enter the first set of integers separated by commas: \").split(','))\n",
        "print(set1)\n",
        "set2 = set(input(\"Enter the second set of integers separated by commas: \").split(','))\n",
        "print(set2)\n",
        "intersection = set1 & set2\n",
        "print(\"The intersection of the two sets is:\", intersection)"
      ],
      "metadata": {
        "id": "CYG2KN6_wpbA"
      },
      "execution_count": null,
      "outputs": []
    },
    {
      "cell_type": "code",
      "source": [
        "#23.write a code to concatinate two tuples , the function should take 2 tuples as input and return a new tuple containing elements from both tuples.\n",
        "def add(t1,t2):\n",
        "  t=t1+t2\n",
        "  return t\n",
        "t1=(1,2,3,4)\n",
        "t2=(5,6,7,8,9)#let the two tuple are taken for example\n",
        "t=()\n",
        "add(t1,t2)#function call"
      ],
      "metadata": {
        "id": "Bc_GONqHBir4"
      },
      "execution_count": null,
      "outputs": []
    },
    {
      "cell_type": "code",
      "source": [
        "#24.Develop a code that prompts the user to input two set of strings .Then, print the elements that are present in the first set but not in second set.\n",
        "set1=set(input(\"enter first set of strings spearated by commas:\").split(','))\n",
        "set2=set(input(\"enter second set of strings spearated by commas:\").split(','))\n",
        "intersection=set1-set2\n",
        "print(\"elements that that present in set 1 but not in set 2 is-\",intersection)\n",
        "\n",
        "#output:\n",
        "#enter first set of strings spearated by commas:hello,hii\n",
        "#enter second set of strings spearated by commas:hii,bye\n",
        "#elements that that present in set 1 but not in set 2 is- {'hello'}"
      ],
      "metadata": {
        "id": "GxCk_pK0O3Ts"
      },
      "execution_count": null,
      "outputs": []
    },
    {
      "cell_type": "code",
      "source": [
        "#25.create a code that takes a tuple and two integers as input.the function should return a new tuple containing elements from original tuple within specified range of indices.\n",
        "def display(t,start,end):\n",
        "  new_tuple=()\n",
        "  new_tup=t[start-1:end]#it will take the first position means zero index is the first position which will be suitable for the user\n",
        "  return new_tup\n",
        "new_tup=()\n",
        "t=[]\n",
        "x=int(input(\"enter the length of the tuple to input-\"))\n",
        "for i in range(x):\n",
        "  i=int(input(\"enter elements one by one-\"))\n",
        "  t.append(i)\n",
        "tuple(t)\n",
        "start=int(input(\"enter the starting position value for the range-\"))\n",
        "end=int(input(\"enter the ending position for the range-\"))\n",
        "display(t,start,end)\n",
        "#i have taken position rather than index to be suitable for the user using it"
      ],
      "metadata": {
        "id": "5Q5Fhqrcc88S"
      },
      "execution_count": null,
      "outputs": []
    },
    {
      "cell_type": "code",
      "source": [
        "#26.write a code that prompts the user to input two sets of characters , then print the union of these two sets.\n",
        "set1=set(input(\"enter first set of characters separated by commas-\").split(\",\"))\n",
        "set2=set(input(\"enter second set of characters separated by commas-\").split(\",\"))\n",
        "union= set1 | set2#or we can also use the union function in python\n",
        "print(\"union of these sets is-\",union)"
      ],
      "metadata": {
        "id": "gx39d0NsLNyz"
      },
      "execution_count": null,
      "outputs": []
    },
    {
      "cell_type": "code",
      "source": [
        "#27.develop a code that takes a tuple of integers as input.the function should return maximum and minimum values from tuple using tuple unpacking.\n",
        "def maxmin(t):\n",
        "  minimum,maximum=min(t),max(t)\n",
        "  print(\"minimum value is-\",minimum)\n",
        "  print(\"maximum value is-\",maximum)\n",
        "t=[]\n",
        "x=int(input(\"enter the length of the tuple to input-\"))\n",
        "for i in range(x):\n",
        "  i=int(input(\"enter elements one by one-\"))\n",
        "  t.append(i)\n",
        "tuple(t)#it takes the value that are inputted by the user and convert it into tuple and follows that instructed path afterwards\n",
        "maxmin(t)"
      ],
      "metadata": {
        "id": "HbH3fFRcPAHx"
      },
      "execution_count": null,
      "outputs": []
    },
    {
      "cell_type": "code",
      "source": [
        "#28.create a code that defines two sets of integers , then print the union , intersection and difference of these two sets.\n",
        "set1=set(input(\"enter the first set of integers separated by commas-\").split(\",\"))\n",
        "set2=set(input(\"enter the second set pf integers separated by commas-\").split(\",\"))\n",
        "intersection= set1 & set2\n",
        "union=set1 | set2\n",
        "difference=set1- set2\n",
        "print(\"intersection is-\",intersection,\"\\nunion is-\",union,\"\\ndifference is-\",difference)"
      ],
      "metadata": {
        "id": "3kqUW3wiROp0"
      },
      "execution_count": null,
      "outputs": []
    },
    {
      "cell_type": "code",
      "source": [
        "#29.develop a code that takes a tuple and an elements as input , the function should return the count of occurramces of the given elements in tuple .\n",
        "def countele(t,z):\n",
        "  for i in t:\n",
        "    if i==z:\n",
        "      global count#it will take the value of the count in outside or global variable\n",
        "      count+=1\n",
        "  return count\n",
        "t=[]\n",
        "x=int(input(\"enter the length of the tuple to input-\"))\n",
        "for i in range(x):\n",
        "  i=int(input(\"enter elements one by one-\"))\n",
        "  t.append(i)\n",
        "tuple(t)\n",
        "z=int(input(\"enter the element to count the occurances-\"))\n",
        "count=0\n",
        "countele(t,z)"
      ],
      "metadata": {
        "id": "V7Yowe9kTcqZ"
      },
      "execution_count": null,
      "outputs": []
    },
    {
      "cell_type": "code",
      "source": [
        "#30.develop a code that prompts a user to input two set of strings .then print the symmetric difference of these two sets.\n",
        "set1=set(input(\"enter the first set of strings separated by comma-\").split(\",\"))\n",
        "set2=set(input(\"enter the second set of strings eparated by comma-\").split(\",\"))\n",
        "x= set1.symmetric_difference(set2)#used the symmetric difference function\n",
        "print(\"The symmetric difference of the two sets is:\",x)"
      ],
      "metadata": {
        "id": "TbDsx8XPebwg"
      },
      "execution_count": null,
      "outputs": []
    },
    {
      "cell_type": "code",
      "source": [
        "#31.write a code that takes a list of words as input and returns a dictionary where the keys are unique words and the values are the frequencies of those words in the input list.\n",
        "def words(l):\n",
        "  for i in range(len(l)):\n",
        "    d[l[i]]=len(l[i])\n",
        "  return d#it will return the dictionary with the key value pair\n",
        "x=int(input(\"enter number strings you want to input\"))\n",
        "l=[]\n",
        "for i in range(x):\n",
        "  i=input(\"enter strings one by one-\")\n",
        "  l.append(i)#list created by strings inputed by the user\n",
        "d={}\n",
        "words(l)#function call"
      ],
      "metadata": {
        "id": "3YaDh_pRnKmV"
      },
      "execution_count": null,
      "outputs": []
    },
    {
      "cell_type": "code",
      "source": [
        "#32.write a code that takes two dictionaries as input and merges into a single dictionary.if there are common keys , the values should be added together.\n",
        "def merge(d1,d2):\n",
        "  for i in d1.keys() & d2.keys():#the & operator is used to find the intersection\n",
        "    d3[i] = d1[i] + d2[i]#the common values will be added together\n",
        "  print(\"the merge dictionary is-\",d3)\n",
        "d1={}\n",
        "x=int(input(\"enter number of keys to add for first dictionary-\"))#the two dictionary will be inputtted by user\n",
        "for i in range(x):\n",
        "  q=input(\"enter value of key -\")\n",
        "  z=int(input(\"enter the value in integer\"))\n",
        "  d1[q]=z\n",
        "print(d1)\n",
        "d2={}\n",
        "y=int(input(\"enter number of keys to add for second dictionary-\"))\n",
        "for i in range(y):\n",
        "  v=input(\"enter value of key -\")\n",
        "  m=int(input(\"enter value in integer\"))\n",
        "  d2[v]=m\n",
        "print(d2)\n",
        "d3={}\n",
        "d3={**d1,**d2}#this is used to merge two dictionaries\n",
        "merge(d1,d2)"
      ],
      "metadata": {
        "id": "42c8fUpdqPEG"
      },
      "execution_count": null,
      "outputs": []
    },
    {
      "cell_type": "code",
      "source": [
        "#33.write a code to access a value in a nested dictionary.the function should take the dictionary and a list of keys as input and return the corrsponding value.if any of the keys do not exist , the function should return none.\n",
        "def get(d,keys):\n",
        "    newdict=d\n",
        "    for i in keys:\n",
        "        if i in newdict:#here one by one the keys get matched and store the value part only so that to access further keys in nested order.\n",
        "            newdict=newdict[i]\n",
        "        else:\n",
        "            return None\n",
        "    return newdict\n",
        "d={'a':{'b':{'c':1,'d':2},'e':3},'f':4}#this nested dictionary is taken for example.\n",
        "keys=['a','b']\n",
        "get(d,keys)\n",
        "#as it is a nested dictionary , when the key get matched , we will only store the value part to access further keys which are in a nested order."
      ],
      "metadata": {
        "id": "gQz6gwUl2DSz"
      },
      "execution_count": null,
      "outputs": []
    },
    {
      "cell_type": "code",
      "source": [
        "#34.write a code that takes dictionary as input and returns a sorted version on it based on the values . you can choose whether to sort in ascending or descending.\n",
        "def sort(d):\n",
        "    pairs=[]\n",
        "    for key, value in d.items():\n",
        "        pairs.append((key,value))#sort function will use a lamda function as sorting key\n",
        "    pairs.sort(key=lambda x:x[1])#the lamda function takes one argument that is x here and sort by accessing the second the second element that is the value\n",
        "    final=dict(pairs)\n",
        "    return final\n",
        "d={'b':1,'a':3,'c':2}\n",
        "sort(d)"
      ],
      "metadata": {
        "id": "SWy8mM3-9h-u"
      },
      "execution_count": null,
      "outputs": []
    },
    {
      "cell_type": "code",
      "source": [
        "#35.write a code that inverts a dictionary , swapping keys and values . ensure that inverted dictionary correctly handles cases where multiple keys have same the value by storing the keys as a list in the inverted dictionary.\n",
        "def invert(dictionary):\n",
        "  invert_d={}\n",
        "  for key,value in dictionary.items():\n",
        "    if value not in invert_d:\n",
        "      invert_d[value]=[]#created a empty list , so that i can handle multiple keys which have same value and append in the list\n",
        "    invert_d[value].append(key)\n",
        "  return invert_d\n",
        "dictionary={'PULAKRAJ': 1, 'ROHAN': 2, 'SUBRAT': 2, 'ODISHA': 3}\n",
        "invert(dictionary)\n",
        "#output:{1: ['PULAKRAJ'], 2: ['ROHAN', 'SUBRAT'], 3: ['ODISHA']}\n",
        "#this is question enables and upgrades one's concept , i took almost 15 mins to write its proper coding..\n",
        "#this all the codes that are provided to me as a assignment,THANK YOU....."
      ],
      "metadata": {
        "id": "9WKI-g-ck1Jb"
      },
      "execution_count": null,
      "outputs": []
    }
  ]
}