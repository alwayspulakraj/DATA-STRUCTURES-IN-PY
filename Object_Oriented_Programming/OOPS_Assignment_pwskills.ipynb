{
  "nbformat": 4,
  "nbformat_minor": 0,
  "metadata": {
    "colab": {
      "provenance": [],
      "authorship_tag": "ABX9TyNnwRilGCprVk/cLxKniNl0",
      "include_colab_link": true
    },
    "kernelspec": {
      "name": "python3",
      "display_name": "Python 3"
    },
    "language_info": {
      "name": "python"
    }
  },
  "cells": [
    {
      "cell_type": "markdown",
      "metadata": {
        "id": "view-in-github",
        "colab_type": "text"
      },
      "source": [
        "<a href=\"https://colab.research.google.com/github/alwayspulakraj/GENERATIVE_AI_COURSE_ASSIGNMENT/blob/ASSIGNMENTS-PW-SKILLS/Object_Oriented_Programming/OOPS_Assignment_pwskills.ipynb\" target=\"_parent\"><img src=\"https://colab.research.google.com/assets/colab-badge.svg\" alt=\"Open In Colab\"/></a>"
      ]
    },
    {
      "cell_type": "markdown",
      "source": [
        "#1.Explain the importance of functions.\n",
        "Functions are the set of codes or block of codes that perform some specific task when it is called.These are very useful when same task is performed several times.We can call the function anytime to perform the task . This helps in maintaining the compartibility of the code."
      ],
      "metadata": {
        "id": "-j23MkQknQXa"
      }
    },
    {
      "cell_type": "code",
      "source": [
        "#2.Write basic function to greet students.\n",
        "def greet_student():\n",
        "  print(\"Hello bachoon kese ho aap sabhi\")\n",
        "  print(\"nice to meet you students , lets start our session\")\n",
        "greet_student()"
      ],
      "metadata": {
        "id": "Fc85H5u8zeu9"
      },
      "execution_count": null,
      "outputs": []
    },
    {
      "cell_type": "markdown",
      "source": [
        "#3.What is the difference between print and return statement?\n",
        "1.   print statement is a function which gives output of the specified text or variable value.\n",
        "2.   return statement is a keyword which terminates the execution of the function and returns a value. If there will be a comma in the return statement then it will return the value in a tuple.\n",
        "\n"
      ],
      "metadata": {
        "id": "cu2QMhAfrLZ-"
      }
    },
    {
      "cell_type": "markdown",
      "source": [
        "#4.What is *args and **kwargs?\n",
        "1.*args is used to pass positional arguments to a function .It allows a function to accept a variable number of arguments as tuple.\n",
        "2.**kwargs is used to pass aa keyword argument as a dictionary.\n",
        "\n",
        "1.   *args is used to pass positional arguments to a function .It allows a function to accept a variable number of arguments as tuple.\n",
        "\n",
        "2.   **kwargs is used to pass aa keyword argument as a dictionary.\n"
      ],
      "metadata": {
        "id": "-6O2Fj3euILL"
      }
    },
    {
      "cell_type": "markdown",
      "source": [
        "#5.Explain the iterator function.\n",
        "Iterators is an object that is used to iterate over iterable objects.The iter() function create iterable object .To iterate the iterable is to be converted.like if s=\"pwskills\" , then iter(s) will return a iterable object of s or of the string."
      ],
      "metadata": {
        "id": "PK7icNf-ufHM"
      }
    },
    {
      "cell_type": "code",
      "source": [
        "#6.Write a code that generates the squares of numbers from one to n using generator.\n",
        "n=int(input(\"Enter the last number upto which you want to find its square-\"))\n",
        "def gen(n):\n",
        "  for i in range(1,n+1):#to include n we have to give n+1\n",
        "    yield i**2#it displays one data at a time\n",
        "g=gen(n) #to check the squared number one by one to save memory we can use next(g)\n",
        "for i in g:\n",
        "  print(i)\n",
        "#genertor function does not return a single value but returns an iterator object"
      ],
      "metadata": {
        "id": "NdRIiY5tS5ro"
      },
      "execution_count": null,
      "outputs": []
    },
    {
      "cell_type": "code",
      "source": [
        "#7.write a code that generates palindromic numbers upto n using a generator.\n",
        "n=int(input(\"Enter the last number upto which you want to find palidromic numbers-\"))\n",
        "def gen(n):\n",
        "  for i in range(0,n+1):#to include n we have to give n+1\n",
        "     x=str(i)\n",
        "     y=x[::-1]\n",
        "     if str(i)==y:\n",
        "       yield i\n",
        "     else:\n",
        "        pass\n",
        "g=gen(n)#or we can use next(g) to display one by one all the values\n",
        "#next(g)\n",
        "for i in g:#it will give all the palindromic values between the range 0 to n or next(g) to display values one by one\n",
        "  print(i)\n",
        "#it will yield each value produced by the generator one by one until the generator is exhausted.\n",
        "#genertor function does not return a single value but returns an iterator object"
      ],
      "metadata": {
        "id": "BjyO-C32WjFR"
      },
      "execution_count": null,
      "outputs": []
    },
    {
      "cell_type": "code",
      "source": [
        "#8.Write a code that generates even numbers from 2 to n using a generator.\n",
        "n=int(input(\"Enter the last number upto which you want to the even values-\"))\n",
        "def gen(n):\n",
        "  for i in range(2,n+1):#to include n we have to give n+1\n",
        "     if i%2==0:\n",
        "       yield i\n",
        "     else\n",
        "       pass\n",
        "g=gen(n)#or we can use next(g) to display one by one all the values\n",
        "#next(g)\n",
        "for i in g:#it will give all the even values between the range 2 to n or next(g) to display values one by one\n",
        "  print(i)\n",
        "#it will yield each value produced by the generator one by one until the generator is exhausted.\n",
        "#genertor function does not return a single value but returns an iterator object"
      ],
      "metadata": {
        "id": "QSgJ5dCbfDTp"
      },
      "execution_count": null,
      "outputs": []
    },
    {
      "cell_type": "code",
      "source": [
        "#9.write a code to generate powers of two upto n using a generator.\n",
        "n=int(input(\"Enter the last power upto which you want to the power of 2-\"))\n",
        "def gen(n):\n",
        "  for i in range(n+1):\n",
        "    yield 2**i\n",
        "g=gen(n)#or we can use next(g) to display one by one all the values\n",
        "#next(g)\n",
        "for i in g:#it will give all the  values of power of 2 desired or next(g) to display values one by one\n",
        "  print(i)\n",
        "#it will yield each value produced by the generator one by one until the generator is exhausted.\n",
        "#genertor function does not return a single value but returns an iterator object"
      ],
      "metadata": {
        "id": "J5iRUo6uT_6T"
      },
      "execution_count": null,
      "outputs": []
    },
    {
      "cell_type": "code",
      "source": [
        "#10.Write a code that generates prime numbers upto n using generator.\n",
        "n=int(input(\"Enter the last number upto which you want a prime number-\"))\n",
        "def gen(n):\n",
        "  i=2\n",
        "  while i<=n:\n",
        "    count=0\n",
        "    for j in range(1,i+1):\n",
        "      if i%j==0:\n",
        "        count+=1\n",
        "    if count==2:\n",
        "      yield i\n",
        "    i=i+1\n",
        "g=gen(n)#or we can use next(g) to display one by one all the values\n",
        "#next(g)\n",
        "for i in g:#it will give all the prime numbers between the range or next(g) to display values one by one\n",
        "  print(i)\n",
        "#it will yield each value produced by the generator one by one until the generator is exhausted.\n",
        "#genertor function does not return a single value but returns an iterator object"
      ],
      "metadata": {
        "id": "rtGau0RmV062"
      },
      "execution_count": null,
      "outputs": []
    },
    {
      "cell_type": "code",
      "source": [
        "#11.Write a code that uses lambda function to calculate the sum of two numbers.\n",
        "x=int(input(\"Enter first number\"))\n",
        "y=int (input(\"Enter second number\"))\n",
        "add=lambda x,y: x+y#object created here\n",
        "add(x,y)"
      ],
      "metadata": {
        "id": "t92sau0Pd1GW"
      },
      "execution_count": null,
      "outputs": []
    },
    {
      "cell_type": "code",
      "source": [
        "#12.Write a code that uses a lambda function to calculate square of a given number.\n",
        "x=int(input(\"Enter a number to find its square-\"))\n",
        "square=lambda x:x**2\n",
        "square(x)"
      ],
      "metadata": {
        "id": "oxvektHoAl1H"
      },
      "execution_count": null,
      "outputs": []
    },
    {
      "cell_type": "code",
      "source": [
        "#13.Write a code that uses lambda function to check whether the given number is even or odd.\n",
        "x=int(input(\"Enter the number to check even or odd\"))\n",
        "check=lambda x:\"Even\" if x%2==0 else \"odd\"\n",
        "check(x)"
      ],
      "metadata": {
        "id": "6WZ-YA6HBOt2"
      },
      "execution_count": null,
      "outputs": []
    },
    {
      "cell_type": "code",
      "source": [
        "#15.Write a code that uses lambda function to concatenate two strings.\n",
        "x=input(\"Enter first string-\")\n",
        "y=input(\"Enter second string\")\n",
        "concat=lambda x,y:x+y#two strings will add\n",
        "concat(x,y)"
      ],
      "metadata": {
        "id": "RLyPLMHTE9wR"
      },
      "execution_count": null,
      "outputs": []
    },
    {
      "cell_type": "code",
      "source": [
        "#16.Write a code that uses lambda function to find maximum of three given numbers.\n",
        "a=int(input(\"Enter first number\"))\n",
        "b=int(input(\"Enter second number\"))\n",
        "c=int(input(\"Enter third number\"))\n",
        "maximum=lambda x,y,z:x if x>=y and x>=z else y if y>=x and y>=z else z\n",
        "maximum(a,b,c)"
      ],
      "metadata": {
        "id": "sswqix7qGHpy"
      },
      "execution_count": null,
      "outputs": []
    },
    {
      "cell_type": "code",
      "source": [
        "#17.write a code that generates squares of even numbers from a given list.\n",
        "l=[1,2,3,4,5,6,7,8,9]#Let the given list be l\n",
        "def gen(l):\n",
        "  for i in l:\n",
        "   if i%2==0:\n",
        "    yield i**2\n",
        "   else:\n",
        "    pass\n",
        "g=gen(l)\n",
        "for i in g:\n",
        "  print(i)#generates squares of even numbers from a given list by generator"
      ],
      "metadata": {
        "id": "N4F0f3OXWl6M"
      },
      "execution_count": null,
      "outputs": []
    },
    {
      "cell_type": "code",
      "source": [
        "#18.Write a code that calculates the products of all positive numbers from a given list.\n",
        "l=[1,-2,-3,4,5,-6,7,8,-9]#Let the given list be l\n",
        "from functools import reduce\n",
        "pro=reduce(lambda x,y:x*y if y>0 else x,l,1)#I have set the initial produt value to be 1\n",
        "print(pro)"
      ],
      "metadata": {
        "id": "R4-7aG8-vShx"
      },
      "execution_count": null,
      "outputs": []
    },
    {
      "cell_type": "code",
      "source": [
        "#19.Write a code that doubles the values of odd numbers from a given list.\n",
        "l1=[1,2,3,4,5,6,7,8,9]#Let the given list be l1\n",
        "l=[]\n",
        "def double():\n",
        "  for i in l1:\n",
        "    if i%2==0:\n",
        "      l.append(i)\n",
        "    else:\n",
        "      l.append(i*2)\n",
        "double()\n",
        "l1.clear()\n",
        "l1=l.copy()#it will store the new data in the existing file\n",
        "print(\"The desired list is-\",l1)"
      ],
      "metadata": {
        "id": "VqG0ZM02wceC"
      },
      "execution_count": null,
      "outputs": []
    },
    {
      "cell_type": "code",
      "source": [
        "#20.Write a code that calculates the sum of cubes of numbers from a given list.\n",
        "l=[2,3,4,5]#Let the given list be l\n",
        "sum=list(map(lambda x:x**3,l))\n",
        "print(sum)"
      ],
      "metadata": {
        "id": "8CwGi9uszjUv"
      },
      "execution_count": null,
      "outputs": []
    },
    {
      "cell_type": "code",
      "source": [
        "#21.Write a code that filters out prime numbers from a given list.\n",
        "l=[1,2,3,4,5,6,7,8,9]#Let the given list be l\n",
        "new_l=[]\n",
        "def filter(l):\n",
        "  for i in l:\n",
        "    count=0\n",
        "    j=1\n",
        "    while j<=i:\n",
        "      if i%j==0:\n",
        "        count+=1\n",
        "      j+=1\n",
        "    if count==2:\n",
        "      new_l.append(i)\n",
        "  return new_l\n",
        "filter(l)"
      ],
      "metadata": {
        "id": "vy44jifkQXvj"
      },
      "execution_count": null,
      "outputs": []
    },
    {
      "cell_type": "code",
      "source": [
        "#22.Write a code that uses a lambda function to calculate the sum of two numbers.\n",
        "x=int(input(\"Enter the first number-\"))\n",
        "y=int(input(\"Enter the second number-\"))\n",
        "sum=lambda x,y:x+y\n",
        "sum(x,y)"
      ],
      "metadata": {
        "id": "MQPa3pwEbgdI"
      },
      "execution_count": null,
      "outputs": []
    },
    {
      "cell_type": "code",
      "source": [
        "#23.Write a code that uses lambda function to calculate the square of given number.\n",
        "x=int(input(\"Enter a number to find its square-\"))\n",
        "square=lambda x:x**2\n",
        "square(x)"
      ],
      "metadata": {
        "id": "2Uzb29t6jdXb"
      },
      "execution_count": null,
      "outputs": []
    },
    {
      "cell_type": "code",
      "source": [
        "#24.Write a code that uses lambda function to check whether the given number is even or odd.\n",
        "x=int(input(\"Enter the number to check even or odd\"))\n",
        "check=lambda x:\"Even\" if x%2==0 else \"odd\"\n",
        "check(x)"
      ],
      "metadata": {
        "id": "sao94lP1keR3"
      },
      "execution_count": null,
      "outputs": []
    },
    {
      "cell_type": "code",
      "source": [
        "#25..Write a code that uses lambda function to concatenate two strings.\n",
        "x=input(\"Enter first string-\")\n",
        "y=input(\"Enter second string\")\n",
        "concat=lambda x,y:x+y#two strings will add\n",
        "concat(x,y)"
      ],
      "metadata": {
        "id": "Fvre0q3ak27W"
      },
      "execution_count": null,
      "outputs": []
    },
    {
      "cell_type": "code",
      "source": [
        "#26.Write a code that uses lambda function to find maximum of three given numbers.\n",
        "a=int(input(\"Enter first number\"))\n",
        "b=int(input(\"Enter second number\"))\n",
        "c=int(input(\"Enter third number\"))\n",
        "maximum=lambda x,y,z:x if x>y and x>z else y if y>x and y>z else z\n",
        "maximum(a,b,c)"
      ],
      "metadata": {
        "id": "ehCjS32YlGpc"
      },
      "execution_count": null,
      "outputs": []
    },
    {
      "cell_type": "markdown",
      "source": [
        "#27.what is encapsulation in oop?\n",
        "Encapsulation means hiding important data , bundling of data and methods , access modifier public , private , protected."
      ],
      "metadata": {
        "id": "BmBYpuRA37G2"
      }
    },
    {
      "cell_type": "markdown",
      "source": [
        "#28.Explain the use of access modifiers in python classes\n",
        "Enclpasulation includes access modifier which can be public , private , protected.\n",
        "\n",
        "1.Public- accessible from anywhere outside the class, anyone from anywhere can access the public variables and also can modify it as per their choice.\n",
        "\n",
        "2.Private-acccesible only within the class .Only the person with the name of the class can be able to view it.\n",
        "\n",
        "3.Protected-Within the class and its sub class protected member can be accessed,(_) .The user will be able to see that it is protected and wrok accordingly."
      ],
      "metadata": {
        "id": "dBPtc0HL5HX9"
      }
    },
    {
      "cell_type": "markdown",
      "source": [
        "#29.What is inheritance in oop?\n",
        "Inheritance  refers to process of child class receiving the properties of the parent class.The methods of the parent class can be accessed by the child class but vice versa is not possible."
      ],
      "metadata": {
        "id": "26R9rBC306f3"
      }
    },
    {
      "cell_type": "markdown",
      "source": [
        "#30.What is Polymorphism in oop?\n",
        "Polymorphism refers to an object taking several forms. Here 'poly' means many and 'morphism' means forms or state."
      ],
      "metadata": {
        "id": "vFrN_vok5Xi7"
      }
    },
    {
      "cell_type": "markdown",
      "source": [
        "#31.Explain method overriding in python?\n",
        "The method overriding means method in the parent class and child class with same signature , the child class method will be executed.The child class is more powerful."
      ],
      "metadata": {
        "id": "bj-A5j2eq0tw"
      }
    },
    {
      "cell_type": "code",
      "source": [
        "#32.Define a parent class animal with a method make_sound that prints 'Genetic animal sound'. Create a child class Dog inherting from animal with a method make_sound that prints \"Woof!\".\n",
        "#parent class animal\n",
        "class Animal:\n",
        "  def make_sound(self):\n",
        "    print(\"Genetic Animal Sound\")\n",
        "#child class dog\n",
        "class Dog(Animal):\n",
        "  def make_sound(self):\n",
        "    print(\"woof!\")"
      ],
      "metadata": {
        "id": "AwL0FydIsSdK"
      },
      "execution_count": null,
      "outputs": []
    },
    {
      "cell_type": "code",
      "source": [
        "#33.Define a method move in the animal class that prints \"Animal moves\".Override the move method in the dog class to print\"Dog runs\".\n",
        "#parent class animal\n",
        "class Animal:\n",
        "  def make_sound(self):\n",
        "    print(\"Genetic Animal Sound\")\n",
        "  def move(self):\n",
        "    print(\"Animal moves\")\n",
        "#child class dog\n",
        "class Dog(Animal):#inherit Animal class in dog\n",
        "  def make_sound(self):\n",
        "    print(\"woof!\")\n",
        "  def move(self):\n",
        "    print(\"Dog runs\")\n",
        "d=Dog()\n",
        "d.move()"
      ],
      "metadata": {
        "id": "9NK-KGrc1O4k"
      },
      "execution_count": null,
      "outputs": []
    },
    {
      "cell_type": "code",
      "source": [
        "#34.Create a class Mammal with a method reproduce that prints \"Giving birth to live young\".Create a class DogMammal inheriting from both Dog and Mammal.\n",
        "class Animal:\n",
        "  def make_sound(self):\n",
        "    print(\"Genetic Animal Sound\")\n",
        "  def move(self):\n",
        "    print(\"Animal moves\")\n",
        "#child class dog\n",
        "class Dog(Animal):\n",
        "  def make_sound(self):\n",
        "    print(\"woof!\")\n",
        "  def move(self):\n",
        "    print(\"Dog runs\")\n",
        "#class mammal\n",
        "class Mammal:\n",
        "  def reproduce(self):\n",
        "    print(\"Giving birth to live young\")\n",
        "#class DogMammal inherited from both Mammal and Dog\n",
        "class DogMammal(Dog,Mammal):\n",
        "  pass"
      ],
      "metadata": {
        "id": "4kUaC1Zr5ATV"
      },
      "execution_count": null,
      "outputs": []
    },
    {
      "cell_type": "code",
      "source": [
        "#35.Create a class GermanShepherd inheriting from Dog and override the make_sound method to print \"Bark!\".\n",
        "class Animal:\n",
        "  def make_sound(self):\n",
        "    print(\"Genetic Animal Sound\")\n",
        "  def move(self):\n",
        "    print(\"Animal moves\")\n",
        "#child class dog\n",
        "class Dog(Animal):\n",
        "  def make_sound(self):\n",
        "    print(\"woof!\")\n",
        "  def move(self):\n",
        "    print(\"Dog runs\")\n",
        "#class mammal\n",
        "class Mammal:\n",
        "  def reproduce(self):\n",
        "    print(\"Giving birth to live young\")\n",
        "#class DogMammal inherited from both Dog and Mammal\n",
        "class DogMammal(Dog,Mammal):\n",
        "  pass\n",
        "#class GermanShepherd inherited from Dog\n",
        "class GermanShepherd(Dog):\n",
        "  def make_sound(self):\n",
        "    print(\"Bark!\")"
      ],
      "metadata": {
        "id": "Qwd-Pwoe787N"
      },
      "execution_count": null,
      "outputs": []
    },
    {
      "cell_type": "code",
      "source": [
        "#36.Define constructors in both Animal and dog with different initialization parameters.\n",
        "class Animal:\n",
        "  def __init__(self,name):# __init__ is a constructor  and has one initialiszation parameter 'name'\n",
        "    self.name=name\n",
        "  def make_sound(self):\n",
        "    print(\"Genetic Animal Sound\")\n",
        "  def move(self):\n",
        "    print(\"Animal moves\")\n",
        "#child class dog\n",
        "class Dog(Animal):\n",
        "  def __init__(self,name,breed):# __init__ is a constructor and has two initialiszation parameter 'name' and 'breed'\n",
        "    self.name=name\n",
        "    self.breed=breed\n",
        "  def make_sound(self):\n",
        "    print(\"woof!\")\n",
        "  def move(self):\n",
        "    print(\"Dog runs\")"
      ],
      "metadata": {
        "id": "odaPaTeb-3k0"
      },
      "execution_count": null,
      "outputs": []
    },
    {
      "cell_type": "markdown",
      "source": [
        "#37.What is abstraction in python?How it is implemented?\n",
        "Abstraction is the concept of hiding the complex implementation. Abstraction has no role but it creates a basic skeleton of the overall program . For the implementation part we have to import abc module and write @abstractmethod to use that decorator.For example-"
      ],
      "metadata": {
        "id": "QOMFm-kmNm6t"
      }
    },
    {
      "cell_type": "code",
      "source": [
        "from abc import ABC,abstractmethod\n",
        "class Animal:\n",
        "  @abstractmethod\n",
        "  def sound(self):\n",
        "    pass\n",
        "class Cat(Animal):\n",
        "  def sound(self):\n",
        "    print(\"Meows!\")\n",
        "cat=Cat()\n",
        "cat.sound()\n",
        "#The class Animal provides a basic skeleton that every class like Cat will have a method of sound which overrides."
      ],
      "metadata": {
        "id": "jhujmsN4VWqp"
      },
      "execution_count": null,
      "outputs": []
    },
    {
      "cell_type": "markdown",
      "source": [
        "#38.Explain the importance of abstraction in object-oreinted programming.\n",
        "It plays a important role in managing large projects ,gives a basic structure\n",
        "\n",
        "*   It plays a important role in managing large projects ,gives a basic structure of the program\n",
        "\n",
        "*   It gives a user a less maintainance and basic structure of the code can be identified.\n",
        "\n",
        "*   The code can be reusable in differnet scenarios or cases ,increases time productivity\n",
        "\n",
        "\n",
        "\n"
      ],
      "metadata": {
        "id": "Odm9AS7bQMzg"
      }
    },
    {
      "cell_type": "markdown",
      "source": [
        "#39.How abstract methods different from regular methods in python.\n",
        "\n",
        "\n",
        "*   Regular methods are the methods which is defined in a class for a specific task and contain the actual code that performs the desired actions. Regular methods can be called directly on an instance of a class.\n",
        "*   Abstract methods first gives a skeleton of the overall methods that are included , these are actions are implemented in the subclasses or the child classes.\n",
        "\n"
      ],
      "metadata": {
        "id": "nmIAgLMDqQlm"
      }
    },
    {
      "cell_type": "markdown",
      "source": [
        "#40.How can you achieve abstraction using interfaces in python?\n",
        "Interfaces in abstraction can be achieved by first is by creating a abstract base that is created by writing class(ABC) ,it instructs to follow the interface by the subclasses and second is by inherting the class which the interface is defined to the subclasses child classes."
      ],
      "metadata": {
        "id": "TfhiQNli1w0B"
      }
    },
    {
      "cell_type": "code",
      "source": [
        "#41.Can you provide an example of how abstraction can be utilized to create a common interface for a group of related classes in python?\n",
        "from abc import ABC, abstractmethod\n",
        "class Animal:\n",
        "  def __init__(self,name=\"\"):#here i have set the default name as a empty string so if no argument is given then it will not show error\n",
        "    self.name=name\n",
        "  @abstractmethod\n",
        "  def sound(self):\n",
        "    pass\n",
        "class Cat(Animal):\n",
        "  def sound(self):\n",
        "    print(self.name,\"meows!\")\n",
        "class Dog(Animal):\n",
        "  def sound(self):\n",
        "    print(self.name,\"Barks!\")\n",
        "mycat=Cat(\"jackie\")\n",
        "mycat.sound()\n",
        "mydog=Dog(\"blackie\")\n",
        "mydog.sound()"
      ],
      "metadata": {
        "id": "5yK44rok_O55"
      },
      "execution_count": null,
      "outputs": []
    },
    {
      "cell_type": "markdown",
      "source": [
        "#42.How does python achieve polymorphism through method overriding?\n",
        "Method overriding is the method in which parent class and the subclass or the child class with the same signature , the child class method will be executed first.For example-"
      ],
      "metadata": {
        "id": "1eqGkMFgDnwN"
      }
    },
    {
      "cell_type": "code",
      "source": [
        "class Animal:\n",
        "  def __init__(self,name=\"\"):\n",
        "    self.name=name\n",
        "  def sound(self):\n",
        "    return \"Animal sound\"\n",
        "class Cat(Animal):\n",
        "  def sound(self):\n",
        "    return self.name + \" meows!\"\n",
        "class Dog(Animal):\n",
        "  def sound(self):\n",
        "    return f\"{self.name} Barks!\"\n",
        "animal=[Cat(\"jackie\"),Dog(\"blackie\")]#polymorphism is achieved\n",
        "for i in animal:\n",
        "  print(i.sound())\n",
        "#here two classes cat and dog are the child classes of the animal class and having the same signature so the child class method is executed and polymorphism is achieved."
      ],
      "metadata": {
        "id": "dx1WSSsaFEZ5"
      },
      "execution_count": null,
      "outputs": []
    },
    {
      "cell_type": "code",
      "source": [
        "#43.Define a base class with a method and a subclass that overrides the method.\n",
        "class Animal:\n",
        "  def __init__(self,name=\"\"):\n",
        "    self.name=name\n",
        "  def sound(self):\n",
        "    return \"animal sound\"\n",
        "class Cat(Animal):\n",
        "  def sound(self):#the method in the child class overides the method of the parent class\n",
        "    return self.name + \" meows!\"\n",
        "mycat=Cat(\"jackie\")\n",
        "mycat.sound()"
      ],
      "metadata": {
        "id": "E-oSUEE3fwgl"
      },
      "execution_count": null,
      "outputs": []
    },
    {
      "cell_type": "code",
      "source": [
        "#44.Define a base class with multiple subclasses with overridden methods.\n",
        "class Animal:\n",
        "  def __init__(self,name=\"\"):\n",
        "    self.name=name\n",
        "  def sound(self):\n",
        "    return \"animal sound\"\n",
        "class Cat(Animal):\n",
        "  def sound(self):#the method in the child class overides the method of the parent class\n",
        "    return self.name + \" meows!\"\n",
        "class Dog:\n",
        "  def sound(self):\n",
        "     return self.name + \" barks!\"\n",
        "class Kitten(Cat):\n",
        "  def sound(self):\n",
        "    return self.name + \" meows meows\"\n",
        "mykitten=Kitten(\"jack\")\n",
        "mykitten.sound()"
      ],
      "metadata": {
        "id": "2AjDPNSYjtAW"
      },
      "execution_count": null,
      "outputs": []
    },
    {
      "cell_type": "markdown",
      "source": [
        "#45.How polymorphism improve code redability and reusability?\n",
        "'Poly'means many and 'morphism' means forms.Means the use of a single variable will represent different types of objects and returns as per their desired output which creates a more concise and easier to understand code.For example-"
      ],
      "metadata": {
        "id": "C2PcyYFa8kJP"
      }
    },
    {
      "cell_type": "code",
      "source": [
        "class Animal:\n",
        "  def __init__(self,name=\"\"):\n",
        "    self.name=name\n",
        "  def sound(self):\n",
        "    return \"Animal sound\"\n",
        "class Cat(Animal):\n",
        "  def sound(self):\n",
        "    return self.name + \" meows!\"\n",
        "class Dog(Animal):\n",
        "  def sound(self):\n",
        "    return f\"{self.name} Barks!\"\n",
        "animal=[Cat(\"jackie\"),Dog(\"blackie\")]#polymorphism is achieved\n",
        "for i in animal:\n",
        "  print(i.sound())"
      ],
      "metadata": {
        "id": "txYKKCiK9zz0"
      },
      "execution_count": null,
      "outputs": []
    },
    {
      "cell_type": "markdown",
      "source": [
        "In this code,the animal is list and by making it in loop we can attain different desired output and makes the code look smaller and easeir to understand."
      ],
      "metadata": {
        "id": "WtLp2mZg92e0"
      }
    },
    {
      "cell_type": "markdown",
      "source": [
        "#46.Describe how Python supports polymorphism with duck typing.\n",
        "Duck typing is a process or concept to attain polymorphism in python.if there is class and subclass or child class , that has method with same signature , then to attain polymorphism a function is defined outside , so when we pass the class name as arguments in the function differnt output are received.For example -"
      ],
      "metadata": {
        "id": "i2XFVR7aEerX"
      }
    },
    {
      "cell_type": "code",
      "source": [
        "class Duck:\n",
        "  def sound(self):\n",
        "    print(\"Quack Quack!!\")\n",
        "class Person:\n",
        "  def sound(self):\n",
        "    print(\"i am a person but i also Quacks!!\")\n",
        "def function(obj):\n",
        "  obj.sound()\n",
        "person=Person()\n",
        "duck=Duck()\n",
        "function(duck)\n",
        "function(person)\n",
        "#so this is how python supports polymorphism with duck typing."
      ],
      "metadata": {
        "id": "rBaXdAih-1bL"
      },
      "execution_count": null,
      "outputs": []
    },
    {
      "cell_type": "markdown",
      "source": [
        "#47.How do you achieve encapsulation in python?\n",
        "Encapsuation has 3 access modifier that is public , private and protected.\n",
        "\n",
        "\n",
        "1.   PUBLIC access modifier is achieved by usual initialistaion of the variable in the constructor __init__ that is for example, for the name is its self.name=name , so it can be accessible to the user , user can see , modify or delete that public variable.\n",
        "\n",
        "2.   PRIVATE access modifier is acheived by using two underscore to make it a private variable in the constructor __init__ .For example if a variable is named degree and inside the contructor we have to write self.__degree=degree to make it a private variable which cannot be accessed by the user.\n",
        "\n",
        "3.  PROTECTED - within the class and the sub class the protected member can be be accessed.It is used by the writing a single underscore method of the variable in the constructor."
      ],
      "metadata": {
        "id": "MnS_yaQbADAq"
      }
    },
    {
      "cell_type": "markdown",
      "source": [
        "#48.Can a Encapsulation be bypassed in python?If so,how?\n",
        "If the variable is private then it can be accessed by using the syntax obj._classname__variable_name and can be seen or modified.Encapsulation can be bypassed but it is not prefered as it affects the code tends to be more complex.\n"
      ],
      "metadata": {
        "id": "yc2VLiTAchq7"
      }
    },
    {
      "cell_type": "code",
      "source": [
        "#49.Implement a class BankAccount with a private balance attribute .Include methods to deposit , withdraw and check the balance.\n",
        "class BankAccount:\n",
        "  def __init__(self,balance=0,name=\"\"):\n",
        "    self.__balance=balance\n",
        "    self.name=name\n",
        "  def deposit(self,amount):\n",
        "    if amount>0:\n",
        "      self.__balance+=amount\n",
        "      return f\"Your updated balance is: {self.__balance}\"\n",
        "    else:\n",
        "      return False\n",
        "  def withdraw(self,amount):\n",
        "    if amount>0 and amount < self.__balance:\n",
        "        self.__balance-=amount\n",
        "        return f\"Your updated balance is: {self.__balance}\"\n",
        "    else:\n",
        "       return False\n",
        "  def check_the_balance(self):\n",
        "    return self.__balance"
      ],
      "metadata": {
        "id": "o-neFmBQjhsI"
      },
      "execution_count": null,
      "outputs": []
    },
    {
      "cell_type": "code",
      "source": [
        "#50.Develop a Person class with private attributes name and email , and methods to set and get the email.\n",
        "class Person:\n",
        "  def __init__(self,name=\"\",email=\"\"):\n",
        "    self.__name=name\n",
        "    self.__email=email\n",
        "  def set(self):\n",
        "    if self.__name==\"\":\n",
        "      print(\"please define your name and re-enter\")\n",
        "    else:\n",
        "      email=input(\"enter your email of your choice including @email.com -\")\n",
        "      if \"@email.com\" not in email:\n",
        "        return \"invalid choice\"\n",
        "      else :\n",
        "        self.__email=email\n",
        "  def get_email(self):\n",
        "    if self.__email==\"\":\n",
        "      return \"invalid choice\"\n",
        "    else:\n",
        "      return f\"Your email is-{self.__email} regristered with name: {self.__name}\"\n",
        "obj=Person(\"pulak\")\n",
        "obj.set()\n",
        "obj.get_email()"
      ],
      "metadata": {
        "id": "ManQOP2lz97d"
      },
      "execution_count": null,
      "outputs": []
    },
    {
      "cell_type": "markdown",
      "source": [
        "#51.why is Encapsulation considered as a pillar of object oriented programming(OOP)?\n",
        "Encapsulation is very important in oops because it enables data hiding and keeps the private data safe and protected .It can be reused in different cases because the internal variables or attributes and the workings are hidden.It also makes easier to handle the complex codes."
      ],
      "metadata": {
        "id": "KSz3-TugMle9"
      }
    },
    {
      "cell_type": "code",
      "source": [
        "#52.Create a decorator in python that adds functionality to a simple function by printing a message before and after the function execution.\n",
        "def my_decorator(func):\n",
        "  #decorator function that takes another function as argument\n",
        "  def wrapper():\n",
        "    #adds the functionality before and after the function\n",
        "    print(\"before the function execution\")\n",
        "    func()\n",
        "    print(\"after the function execution\")\n",
        "  return wrapper\n",
        "@my_decorator#call decorator\n",
        "def greet():\n",
        "  print(\"hello Pulak\")\n",
        "greet()#when the greet function is called it actually calling the wrapper fnction which in turn call greet function."
      ],
      "metadata": {
        "id": "kZD86UE1xYHG"
      },
      "execution_count": null,
      "outputs": []
    },
    {
      "cell_type": "code",
      "source": [
        "#53.Modify the decorator to accept argument and print the functon name along with the message.\n",
        "def my_decorator(func):\n",
        "     def wrapper(*args, **kwargs):\n",
        "            print(\"Executing\",func.__name__,\"function\")\n",
        "            r=func(*args, **kwargs)\n",
        "            print(r)\n",
        "            print(\"Executed\",func.__name__,\"function\")\n",
        "     return wrapper\n",
        "@my_decorator\n",
        "def greet(name):\n",
        "    return f\"Hello, {name}\"\n",
        "greet(\"Pulak\")\n",
        "#output-\n",
        "#Executing greet function\n",
        "#Hello, Pulak\n",
        "#Executed greet function"
      ],
      "metadata": {
        "id": "OUkglFrgE3cH"
      },
      "execution_count": null,
      "outputs": []
    },
    {
      "cell_type": "code",
      "source": [
        "#54.Create two decorators and apply them to a single function.Ensure that they execute in the order they are applied.\n",
        "def my_decorator1(func):\n",
        "  def wrapper():\n",
        "    print(\"calling the function....for 1\")\n",
        "    func()\n",
        "    print(\"The function is executed for 1\")\n",
        "  return wrapper\n",
        "def my_decorator2(func):\n",
        "  def wrapper():\n",
        "    print(\"calling the function....for 2\")\n",
        "    func()\n",
        "    print(\"The function is executed for 2\")\n",
        "  return wrapper\n",
        "@my_decorator1\n",
        "@my_decorator2\n",
        "def say():\n",
        "  print(\"Hello world\")\n",
        "say()"
      ],
      "metadata": {
        "id": "2GrcTWIiIieg"
      },
      "execution_count": null,
      "outputs": []
    },
    {
      "cell_type": "code",
      "source": [
        "#55.Modify the the decorator to accept and pass function arguments to the wrapper function.\n",
        "def my_decorator1(func):\n",
        "  def wrapper(*args,**kwargs):\n",
        "    print(\"calling the function....for 1\")\n",
        "    value=func(*args,**kwargs)\n",
        "    print(\"The function is executed for 1\")\n",
        "    return value\n",
        "  return wrapper\n",
        "def my_decorator2(func):\n",
        "  def wrapper(*args,**kwargs):\n",
        "    print(\"calling the function....for 2\")\n",
        "    value=func(*args,**kwargs)\n",
        "    print(\"The function is executed for 2\")\n",
        "    return value\n",
        "  return wrapper\n",
        "@my_decorator1\n",
        "@my_decorator2\n",
        "def calculate(a,b,c):\n",
        "  print(\"calculate with \",a,b,c)\n",
        "  return a+b+c\n",
        "calculate(1,2,3)#positional argument"
      ],
      "metadata": {
        "id": "pZRikZFINZEP"
      },
      "execution_count": null,
      "outputs": []
    },
    {
      "cell_type": "code",
      "source": [
        "#56.Create a decorator that preserves the metadata of the original function.\n",
        "from functools import wraps\n",
        "import time\n",
        "def my_decorator(func):\n",
        "    def wrapper(*args, **kwargs):\n",
        "        start=time.time()\n",
        "        result=func(*args, **kwargs)\n",
        "        end =time.time()\n",
        "        print(\"Calling \",func.__name__,\"with argument=\",args,\"kwargs=\",kwargs)\n",
        "        print(func.__name__ ,\"returned=\",result)\n",
        "        print(func.__name__ ,\"took\",end-start,\" seconds\")\n",
        "        return result\n",
        "    return wrapper\n",
        "@my_decorator\n",
        "def add(a,b):\n",
        "    \"\"\"Adds two numbers\"\"\"\n",
        "    return a + b\n",
        "result = add(7,9)\n",
        "print(add.__name__)"
      ],
      "metadata": {
        "id": "Dotoy2Ov90hA"
      },
      "execution_count": null,
      "outputs": []
    },
    {
      "cell_type": "code",
      "source": [
        "#57.create a python class 'Calculator' with a static method 'add' that takes in two numbers and returns their sum.\n",
        "class Calculator:\n",
        "  @staticmethod\n",
        "  def add(x,y):\n",
        "    return x+y\n",
        "Calculator.add(2,3)"
      ],
      "metadata": {
        "id": "T1jqEepiDzDT"
      },
      "execution_count": null,
      "outputs": []
    },
    {
      "cell_type": "code",
      "source": [
        "#58.create a python class 'Employee' with a class method 'get_employee_count'that returns the total number of employee created.\n",
        "class Employee:\n",
        "  total_employee=0\n",
        "  def __init__(self,name):\n",
        "    self.name=name\n",
        "    Employee.total_employee+=1\n",
        "  @classmethod\n",
        "  def get_employee_count(self):\n",
        "    return f\"The total number of employee is-{Employee.total_employee}\"\n",
        "obj1=Employee(\"pulak\")\n",
        "obj2=Employee(\"pulakraj\")\n",
        "obj1.get_employee_count()"
      ],
      "metadata": {
        "id": "Cm2Yyy2dsIwk"
      },
      "execution_count": null,
      "outputs": []
    },
    {
      "cell_type": "code",
      "source": [
        "#59.Create a python class 'StringFormatter' with a static method 'reverse_string'that takes a string as input and returns its reverse.\n",
        "class StringFormatter:\n",
        "  def __init__(self,string=\"\"):\n",
        "    self.string=string\n",
        "  def reverse_string(self):\n",
        "    string=self.string\n",
        "    r=reversed(string)\n",
        "    for i in r:\n",
        "      print(i,end=\"\")\n",
        "obj=StringFormatter(\"python\")\n",
        "obj.reverse_string()"
      ],
      "metadata": {
        "id": "bZlrvDyjuyLw"
      },
      "execution_count": null,
      "outputs": []
    },
    {
      "cell_type": "code",
      "source": [
        "#60.create a python class 'Circle' with a class method 'calculate_area' that calculates the area of the circle given its radius.\n",
        "class Circle:\n",
        "  def __init__(self,radius=0):\n",
        "    self.radius=radius\n",
        "  def calculate_area(self):\n",
        "    radius=self.radius\n",
        "    if radius==0:\n",
        "      return \"Enter the radius!!\"\n",
        "    else:\n",
        "      return f\"Area={3.14*radius**2}\"\n",
        "obj=Circle(5)\n",
        "obj.calculate_area()"
      ],
      "metadata": {
        "id": "PZ5HXkZGNED-"
      },
      "execution_count": null,
      "outputs": []
    },
    {
      "cell_type": "code",
      "source": [
        "#61.Create a python class 'TemperatureConverter' with a static method 'celsius_to_fahrenheit' that converts celsius to fahrenheit.\n",
        "class TemperatureConverter:\n",
        "  @staticmethod\n",
        "  def celsius_to_fahrenheit(celsius=0):\n",
        "    if celsius==0:\n",
        "      return \"please re-enter with the celsius degree\"\n",
        "    else:\n",
        "      c=celsius\n",
        "      f=c*9/5+32\n",
        "      return f\"The degree in farenheit is-{f}\"\n",
        "TemperatureConverter.celsius_to_fahrenheit(30)"
      ],
      "metadata": {
        "id": "paziZoe5Xpdo"
      },
      "execution_count": null,
      "outputs": []
    },
    {
      "cell_type": "markdown",
      "source": [
        "#62.What is purpose of __str__() method in python class?Provide an example.\n",
        "__str__() method returns the string representation of the object.This method is called when a user want to return the object in the form of string,it is very useful for the displaying information for the user.example-"
      ],
      "metadata": {
        "id": "LnyQpzuH7ohE"
      }
    },
    {
      "cell_type": "code",
      "source": [
        "class Person:\n",
        "  def __init__(self,name=\"\",age=0):\n",
        "    self.name=name\n",
        "    self.age=age\n",
        "  def __str__(self):#It returns the string representation of the obj1 that is the object\n",
        "    return f\"Hii {self.name},your entered age is-{self.age} years old\"\n",
        "obj1=Person(\"pulak\",30)\n",
        "print(obj1)"
      ],
      "metadata": {
        "id": "25I5N3xkGCfc"
      },
      "execution_count": null,
      "outputs": []
    },
    {
      "cell_type": "markdown",
      "source": [
        "#63.how does __len__() method work in python?Provide an example.\n",
        "The __len__method in the python returns the length of the object.For a string the length of the string is the number of the characters and for a list or tuple its the number of elements.Example-"
      ],
      "metadata": {
        "id": "JQZSJWVDHziG"
      }
    },
    {
      "cell_type": "code",
      "source": [
        "class List:\n",
        "    def __init__(self, list):\n",
        "      self.list = list\n",
        "    def __len__(self):\n",
        "      return len(self.list)\n",
        "obj=List([1, 2, 3, 4, 5])\n",
        "print(len(obj))#finds the length of the list"
      ],
      "metadata": {
        "id": "aOzWDaHES4Je"
      },
      "execution_count": null,
      "outputs": []
    },
    {
      "cell_type": "markdown",
      "source": [
        "#64.Explain the usage of __add__() method in python classes.Provide an example.\n",
        "The __add__() method is the + operator that is used with object of the class. This method returns a new object that gives the addition operation that is performed.Example-\n"
      ],
      "metadata": {
        "id": "JyNXsbynTjZX"
      }
    },
    {
      "cell_type": "code",
      "source": [
        "class Code:\n",
        "  def __init__(self,x,y):\n",
        "    self.x=x\n",
        "    self.y=y\n",
        "  def __add__(self,code2):\n",
        "    return Code(self.x+code2.y,self.y+code2.y)\n",
        "obj=Code(1,2)\n",
        "obj1=Code(2,3)\n",
        "result=obj+obj1\n",
        "print(result.x,result.y)\n",
        "#return statement of the __add__() method have the updated x and y values of the new Code object that is being returned."
      ],
      "metadata": {
        "id": "CLSlQhtAZXaf"
      },
      "execution_count": null,
      "outputs": []
    },
    {
      "cell_type": "markdown",
      "source": [
        "#65.What is the purpose of the __getitem()__method in python?Provide an example.\n",
        "__getitem__() is a special type of method in python which returns the value of the element at the specified or given index.it takes the value of index and returns the value of the element at that index.Example-"
      ],
      "metadata": {
        "id": "zDliSa8O2nma"
      }
    },
    {
      "cell_type": "code",
      "source": [
        "class MyString:\n",
        "  def __init__(self,list):\n",
        "     self.list = list\n",
        "  def __getitem__(self,index):\n",
        "    if isinstance(index,int):#isinstance checks if the number provided is integer of not , if float or string it returns False\n",
        "      if index>=0 and index<len(self.list):\n",
        "          return self.list[index]\n",
        "obj=MyString([1,2,3,4,5,6,7,8])\n",
        "print(obj[0])\n",
        "print(obj[7])"
      ],
      "metadata": {
        "id": "GPFb6ZaU6zW7"
      },
      "execution_count": null,
      "outputs": []
    },
    {
      "cell_type": "markdown",
      "source": [
        "#66.Explain the usage of the iter() and next() methods in python.Provide an example with python.\n",
        "Iterators are the object that is used to iterate over iterable objects.\n",
        "The __iter__() function returns a iterable object .The __next__()\n",
        "returns the next value of the object of the iterator.Example-\n",
        "\n",
        "\n"
      ],
      "metadata": {
        "id": "jsOMciuVXjcg"
      }
    },
    {
      "cell_type": "code",
      "source": [
        "s=\"pwskills\"\n",
        "iter(s)#output:<str_iterator at 0x7fde9a01aef0>\n",
        "x=iter(s)\n",
        "next(x)#p\n",
        "next(x)#w\n",
        "next(x)#s\n",
        "#like wise it prints all the values of the iterable object of s that is stored in x."
      ],
      "metadata": {
        "id": "qh3knM0vajyI"
      },
      "execution_count": null,
      "outputs": []
    },
    {
      "cell_type": "markdown",
      "source": [
        "#67.What is the purpose of a getter method in python?Provide an example demonstrating the use of a getter method using property decorators.\n",
        "The purpose of the getter decorator is to give access or controlled access or retrieve the private variables which are defined.For example-"
      ],
      "metadata": {
        "id": "fJFopTjNcH1B"
      }
    },
    {
      "cell_type": "code",
      "source": [
        "class Bank:\n",
        "  def __init__(self,name=\"\",balance=0):\n",
        "    self.__name=name\n",
        "    self.__balance=balance\n",
        "  @property#decorator\n",
        "  def balance(self):\n",
        "    return f\"Name:{self.__name} ; Balance:{self.__balance}\"\n",
        "obj=Bank(\"pulak\",10008)\n",
        "obj.balance"
      ],
      "metadata": {
        "id": "x9_zKt9hfFl3"
      },
      "execution_count": null,
      "outputs": []
    },
    {
      "cell_type": "markdown",
      "source": [
        "#68.Explain the role of setter method in python?Demonstrate how to use a setter method to modify class attribute using property decorators.\n",
        "The role of the setter method in  python class is to set the new value or change the value of the class attribute or class private variables.It can be very useful to access and modify the class private variables.with the hepl of the example we can uderstand the using of the setter function-"
      ],
      "metadata": {
        "id": "V4UqltQag11f"
      }
    },
    {
      "cell_type": "code",
      "source": [
        "class Course:\n",
        "  def __init__(self,name=\"\",price=0):\n",
        "    self.__price=price\n",
        "    self.__name=name\n",
        "  @property\n",
        "  def access_price(self):\n",
        "    return self.__price\n",
        "  @access_price.setter\n",
        "  def price_set(self,price_new):\n",
        "    self.__price=price_new\n",
        "stud=Course(\"pulak\",1000)\n",
        "stud.access_price#output-1000\n",
        "stud.price_set=3000\n",
        "stud.access_price #output-3000"
      ],
      "metadata": {
        "id": "bax990Ja2jyu"
      },
      "execution_count": null,
      "outputs": []
    },
    {
      "cell_type": "markdown",
      "source": [
        "#69.What is the purpose of the @property decorator? Provide an example illustrating its usage.\n",
        "The @propety decorator allows the methods to be accessed as attribute.It allows\n",
        "to implement getter and setter methods for an attribute, which can be used to access or modify the private variables.Example-"
      ],
      "metadata": {
        "id": "bHMxQeaUXxu-"
      }
    },
    {
      "cell_type": "code",
      "source": [
        "class Course:\n",
        "  def __init__(self,name=\"\",price=0):\n",
        "    self.__price=price\n",
        "    self.__name=name\n",
        "  @property#it will make the access_price as attribute of the class.\n",
        "  def access_price(self):\n",
        "    return self.__price\n",
        "obj=Course(\"pulak\",1000)\n",
        "obj.access_price"
      ],
      "metadata": {
        "id": "1IYfHLZtZMQE"
      },
      "execution_count": null,
      "outputs": []
    },
    {
      "cell_type": "markdown",
      "source": [
        "#70.Explain the use of @deleter decorator in python property decorators.Provide a code example demonstrating its application.\n",
        "@deleter decorator is used when we have ot delete a class variable or attribute using the keyword 'del' .It is very useful to provide a useful and convienient method to delete a attribute.Example-"
      ],
      "metadata": {
        "id": "I5oEVlNEaEjU"
      }
    },
    {
      "cell_type": "code",
      "source": [
        "class Bank:\n",
        "  def __init__(self,name=\"\",balance=0,age=0):\n",
        "    self.__name=name\n",
        "    self.__balance=balance\n",
        "    self.__age=age\n",
        "  @property\n",
        "  def balance(self):\n",
        "    return f\"Name:{self.__name} ; Balance:{self.__balance}\"\n",
        "  @property#decorator\n",
        "  def age(self):\n",
        "    return self.__age\n",
        "  @age.deleter\n",
        "  def age(self):\n",
        "    del self.__age\n",
        "pulak=Bank(\"pulak\",7000,36)\n",
        "del pulak.age #deleted the age attribute of the Bank class"
      ],
      "metadata": {
        "id": "ZAx0UNzmiFWm"
      },
      "execution_count": 38,
      "outputs": []
    },
    {
      "cell_type": "markdown",
      "source": [
        "#71.How does the encapsulation relate to property decorators in python?Provide an example showcasing encapsulation using property decorators.\n",
        "Encapsulation is the method of hiding the implementation details of an object.By using the property decorators we can encapsulate how to access and modify the private variables or attributes .Example-"
      ],
      "metadata": {
        "id": "T8tjvMddk2Wt"
      }
    },
    {
      "cell_type": "code",
      "source": [
        "class Bank:\n",
        "  def __init__(self,name=\"\",balance=0):\n",
        "    self.__name=name\n",
        "    self.__balance=balance\n",
        "  @property#decorator\n",
        "  def balance(self):\n",
        "    return self.__balance\n",
        "  @property#decorator\n",
        "  def name(self):\n",
        "    return self.__name\n",
        "  @name.setter\n",
        "  def change_name(self,new_name):\n",
        "    self.__name=new_name\n",
        "  @balance.setter\n",
        "  def change_balance(self,new_bal):\n",
        "    self.__balance=new_bal\n",
        "raj=Bank(\"pulak\",2000)\n",
        "raj.balance #output-2000\n",
        "raj.change_balance=5000\n",
        "raj.balance #output-5000\n",
        "#so we can encapsulate the methods to perform some specific functions"
      ],
      "metadata": {
        "id": "MF9y3R3GsB-6"
      },
      "execution_count": null,
      "outputs": []
    }
  ]
}